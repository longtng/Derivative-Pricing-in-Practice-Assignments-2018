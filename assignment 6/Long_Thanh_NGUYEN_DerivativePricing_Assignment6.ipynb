{
 "cells": [
  {
   "cell_type": "markdown",
   "metadata": {},
   "source": [
    "## Assignment 6\n",
    "<p>Aug 2018 </p>\n",
    "<p>Long Thanh NGUYEN </p>\n",
    "<p>long.nguyen2017@qcf.jvn.edu.vn </p>\n"
   ]
  },
  {
   "cell_type": "markdown",
   "metadata": {},
   "source": [
    "# 2. Question "
   ]
  },
  {
   "cell_type": "markdown",
   "metadata": {},
   "source": [
    "## Question 1"
   ]
  },
  {
   "cell_type": "markdown",
   "metadata": {},
   "source": [
    "**(Monotonicity and convexity with respect to strike)** Let $\\mathcal{S}$ be a ﬁnancial instrument, $C(K)$ be the price of a call option with payoff $g(S_T)=max(S_T − K,0)$ where $K$ is the strike-price. We suppose that $C(K)$ is twice differentiable, i.e., $\\frac{\\partial C}{\\partial K}$ and $\\frac{\\partial^2 C}{\\partial K^2}$ exist."
   ]
  },
  {
   "cell_type": "markdown",
   "metadata": {},
   "source": [
    "a. Suppose that the spot price at $t=0$ is $S_0$ , provide the deﬁnition of in-the-money (ITM), at-the-money (ATM) and out-of-the-money (OTM) call options."
   ]
  },
  {
   "cell_type": "markdown",
   "metadata": {},
   "source": [
    "**Answer:**"
   ]
  },
  {
   "cell_type": "markdown",
   "metadata": {},
   "source": [
    "We have:\n",
    "* In the money (ITM): $S_T > K$\n",
    "* At the money (ATM): $S_T = K$\n",
    "* Out the money (ATM): $S_T< K$"
   ]
  },
  {
   "cell_type": "markdown",
   "metadata": {},
   "source": [
    "b. Which one is more expensive, an ITM or an OTM call option? Justify the answer by a rigorous proof using no-arbitrage argument, then use it to show $\\frac{\\partial C}{\\partial K} ≤ 0$."
   ]
  },
  {
   "cell_type": "markdown",
   "metadata": {},
   "source": [
    "**Answer:**"
   ]
  },
  {
   "cell_type": "markdown",
   "metadata": {},
   "source": [
    "c. Let be given three call options, the ﬁrst one is ITM, the second one ATM and the last one OTM, with strike $K_1, K_2, K_3$ , respectively. We consider a butterﬂy spread strategy which consists in buying 1 ITM call, selling 2 ATM calls and buying 1 OTM call with $K_1 + K_3 = 2K_2$ . Show again by means of no-arbitrage argument that the initial cost of such strategy must be non-negative, then explain why we must have $\\frac{\\partial^2 C}{\\partial K^2} ≥ 0$."
   ]
  },
  {
   "cell_type": "markdown",
   "metadata": {},
   "source": [
    "**Answer:**"
   ]
  },
  {
   "cell_type": "markdown",
   "metadata": {},
   "source": [
    "******"
   ]
  },
  {
   "cell_type": "markdown",
   "metadata": {},
   "source": [
    "## Question 2"
   ]
  },
  {
   "cell_type": "markdown",
   "metadata": {},
   "source": [
    "**(Call-Put symmetry)** We consider the general Black-Scholes-Merton dynamics for an asset S under $\\mathbb{Q}$\n",
    "$$\n",
    "\\frac{dS_t}{S_t} = (r-q)dt + \\sigma dW_t\n",
    "$$\n",
    "Let $C(t, x, K, T, r, q, \\sigma)$ and $P(t, x, K, T, r, q, \\sigma)$ be the price at $t$ of an European call and put option with an initial spot price $x$, strike $K$, maturity $T$, risk-free interest-rate $r$, dividend rate $q$ and volatility $\\sigma$."
   ]
  },
  {
   "cell_type": "markdown",
   "metadata": {},
   "source": [
    "a. Provide the Black-Scholes-Merton formula for call/put option."
   ]
  },
  {
   "cell_type": "markdown",
   "metadata": {},
   "source": [
    "**Answer:**"
   ]
  },
  {
   "cell_type": "markdown",
   "metadata": {},
   "source": [
    "We got the BSM formula:\n",
    "$$\n",
    "C(t,x,K,T,r,q,\\sigma) = xe^{-q(T-t)}N(d_+) - Ke^{-r(T-t)}N(d_-)\n",
    "$$\n",
    "with\n",
    "$$\n",
    "d_\\pm = \\frac{\\ln\\frac{xe^{(r-q)(T-t)}}{K}\\pm \\frac{\\sigma^2}{2}(T-t)}{\\sigma\\sqrt{T-t}}\n",
    "$$"
   ]
  },
  {
   "cell_type": "markdown",
   "metadata": {},
   "source": [
    "Apply the put-call parity, we have:\n",
    "$$\n",
    "\\begin{align}\n",
    "C + Ke^{-r(T-t)}\n",
    "&= P + xe^{-q(T-t)} \\\\\n",
    "\\Leftrightarrow \n",
    "P \n",
    "&= C + Ke^{-r(T-t)} - xe^{-q(T-t)} \\\\\n",
    "\\Leftrightarrow \n",
    "P \n",
    "&= xe^{-q(T-t)}N(d_+) - Ke^{-r(T-t)}N(d_-) + Ke^{-r(T-t)} - xe^{-q(T-t)} \\\\\n",
    "\\Leftrightarrow \n",
    "P \n",
    "&= xe^{-q(T-t)}\\big(N(d_+)-1\\big) - Ke^{-r(T-t)}\\big(N(d_-)-1\\big)\n",
    "\\end{align}\n",
    "$$\n",
    "with\n",
    "$$\n",
    "d_\\pm = \\frac{\\ln\\frac{xe^{(r-q)(T-t)}}{K}\\pm \\frac{\\sigma^2}{2}(T-t)}{\\sigma\\sqrt{T-t}}\n",
    "$$"
   ]
  },
  {
   "cell_type": "markdown",
   "metadata": {},
   "source": [
    "******"
   ]
  },
  {
   "cell_type": "markdown",
   "metadata": {},
   "source": [
    "b. Using Ito’s formula, provide an explicit expression for $S_T$ ."
   ]
  },
  {
   "cell_type": "markdown",
   "metadata": {},
   "source": [
    "**Answer:**"
   ]
  },
  {
   "cell_type": "markdown",
   "metadata": {},
   "source": [
    "We have:\n",
    "$$\n",
    "\\frac{dS_t}{S_t} = (r-q)dt + \\sigma dW_t \\\\\n",
    "\\Leftrightarrow\n",
    "dS_t = S_t(r-q)dt + S_t\\sigma dW_t\n",
    "$$"
   ]
  },
  {
   "cell_type": "markdown",
   "metadata": {},
   "source": [
    "Consequence, we got $G=G(S_t,t)$ then\n",
    "$$\n",
    "dG = \\Big(\\frac{\\partial G}{\\partial S_t}S_t(r-q) + \\frac{\\partial G}{\\partial t} + \\frac{1}{2}\\frac{\\partial^2 G}{\\partial S_t^2}( S_t\\sigma)^2\\Big)dt + \\frac{\\partial G}{\\partial S_t}S_t\\sigma dW_t\n",
    "$$"
   ]
  },
  {
   "cell_type": "markdown",
   "metadata": {},
   "source": [
    "Let $G = ln(S_t)$, hence:\n",
    "$$\n",
    "\\begin{cases}\n",
    "    \\frac{\\partial ln(S_t)}{\\partial S_t} = \\frac{1}{S_t} \\Rightarrow \\frac{\\partial^2 G}{\\partial S_t^2} = -\\frac{1}{S^{2}_{t}} \\\\\n",
    "    \\frac{\\partial G}{\\partial t} = \\frac{\\partial ln(S_t)}{\\partial t} = 0 \\\\\n",
    "\\end{cases}\n",
    "$$"
   ]
  },
  {
   "cell_type": "markdown",
   "metadata": {},
   "source": [
    "Then:\n",
    "$$\n",
    "\\begin{align}\n",
    "dG = dln(S_t) \n",
    "&= \\Big[\\frac{1}{S_t}(r-q)S_t + 0 - \\frac{1}{2}\\frac{1}{S^{2}_{t}}\\sigma^2S^{2}_{t} \\Big]dt + \\frac{1}{S_t}\\sigma S_tdW_t \\\\\n",
    "&= (r - q - \\frac{\\sigma^2}{2})dt + \\sigma dW_t \\\\\n",
    "\\Rightarrow \\int_t^T {dln(S_k)} \n",
    "&= \\int_t^T{(r - q - \\frac{\\sigma^2}{2})dk} + \\int_t^T{\\sigma dW_k} \\\\\n",
    "\\Leftrightarrow \\int_t^T {dln(S_k)} \n",
    "&= (r - q - \\frac{\\sigma^2}{2})\\int_t^T{dk} + \\sigma \\int_t^T{dW_k} \\\\\n",
    "\\Rightarrow ln\\frac{S_T}{S_t} \n",
    "&= (r - \\frac{\\sigma^2}{2})(T - t) + \\sigma (W_T - W_t) \\\\\n",
    "\\Leftrightarrow S_T &= S_t e^{(r-q−\\frac{\\sigma^2}{2})(T−t)+\\sigma(W_T−W_t)}.\n",
    "\\end{align}\n",
    "$$"
   ]
  },
  {
   "cell_type": "markdown",
   "metadata": {},
   "source": [
    "******"
   ]
  },
  {
   "cell_type": "markdown",
   "metadata": {},
   "source": [
    "c. In the case where $r = q = 0$ (only in this question), show that the following symmetry holds (For ease of reading we omit $t, T, r, q$ and $\\sigma$ in this expression.)\n",
    "$$\n",
    "C(x,K) = P(K,x).\n",
    "$$\n",
    "Deduce from the previous questions that\n",
    "$$\n",
    "\\mathbb{E}^{\\mathbb{Q}}\\big[(S_T-K)^+\\big] = \\mathbb{E}^{\\mathbb{Q}}\\bigg[\\bigg(x-K\\frac{S_T}{x}\\bigg)^+\\bigg] = \\mathbb{E}^{\\mathbb{Q}}\\bigg[\\frac{S_T}{x}\\bigg(\\frac{x^2}{S_T}-K\\bigg)^+\\bigg] \n",
    "$$"
   ]
  },
  {
   "cell_type": "markdown",
   "metadata": {},
   "source": [
    "Since it holds true for all positive $K$, we have just showed that for all positive payoff $g$\n",
    "$$\n",
    "\\mathbb{E}^{\\mathbb{Q}}\\big[g(S_T)\\big] = \\mathbb{E}^{\\mathbb{Q}}\\bigg[ \\frac{S_T}{x}g \\bigg( \\frac{x^2}{S_T} \\bigg) \\bigg] \n",
    "$$"
   ]
  },
  {
   "cell_type": "markdown",
   "metadata": {},
   "source": [
    "**Answer:**"
   ]
  },
  {
   "cell_type": "markdown",
   "metadata": {},
   "source": []
  },
  {
   "cell_type": "markdown",
   "metadata": {},
   "source": [
    "******"
   ]
  },
  {
   "cell_type": "markdown",
   "metadata": {},
   "source": [
    "d. Turning back to the general case, let $X = S^\\gamma$ . Use Ito’s formula to derive the dynamics of $X$ under $\\mathbb{Q}$, then deduce without doing any calculation, the explicit price for an European put option with payoff $(K − X_T)^+$."
   ]
  },
  {
   "cell_type": "markdown",
   "metadata": {},
   "source": [
    "**Answer:**"
   ]
  },
  {
   "cell_type": "markdown",
   "metadata": {},
   "source": [
    "We have:\n",
    "$$\n",
    "dS_t = S_t(r-q)dt + S_t\\sigma dW_t\n",
    "$$"
   ]
  },
  {
   "cell_type": "markdown",
   "metadata": {},
   "source": [
    "Consequence, we got $X=S^\\gamma$ then\n",
    "$$\n",
    "dX = \\Big(\\frac{\\partial X}{\\partial S_t}S_t(r-q) + \\frac{\\partial X}{\\partial t} + \\frac{1}{2}\\frac{\\partial^2 X}{\\partial S_t^2}( S_t\\sigma)^2\\Big)dt + \\frac{\\partial X}{\\partial S_t}S_t\\sigma dW_t\n",
    "$$"
   ]
  },
  {
   "cell_type": "markdown",
   "metadata": {},
   "source": [
    "Let $G = ln(S_t)$, hence:\n",
    "$$\n",
    "\\begin{cases}\n",
    "    \\frac{\\partial X}{\\partial S_t} = \\gamma S_t^{\\gamma -1} \\Rightarrow \\frac{\\partial^2 X}{\\partial S_t^2} = \\gamma(\\gamma-1)S_t^{\\gamma -2} \\\\\n",
    "    \\frac{\\partial G}{\\partial t} = \\frac{\\partial ln(S_t)}{\\partial t} = 0 \\\\\n",
    "\\end{cases}\n",
    "$$"
   ]
  },
  {
   "cell_type": "markdown",
   "metadata": {},
   "source": [
    "Then:\n",
    "$$\n",
    "\\begin{align}\n",
    "dX \n",
    "&= \\Big[\\gamma S_t^{\\gamma -1}(r-q)S_t + 0 + \\frac{1}{2}\\gamma(\\gamma-1)S_t^{\\gamma -2}\\sigma^2S^{2}_{t} \\Big]dt + \\gamma S_t^{\\gamma -1}\\sigma S_tdW_t \\\\\n",
    "&= \\Big[\\gamma S_t^\\gamma(r-q) + \\frac{1}{2}\\gamma(\\gamma-1)S_t^\\gamma\\sigma^2 \\Big]dt + \\gamma S_t^\\gamma\\sigma dW_t \\\\\n",
    "&= \\Big[\\gamma X(r-q) + \\frac{1}{2}\\gamma(\\gamma-1)X\\sigma^2 \\Big]dt + \\gamma X\\sigma dW_t \\\\\n",
    "&= X\\Big[\\gamma (r-q) + \\frac{1}{2}\\gamma(\\gamma-1)\\sigma^2 \\Big]dt + \\gamma X\\sigma dW_t \\\\\n",
    "\\end{align}\n",
    "$$"
   ]
  },
  {
   "cell_type": "markdown",
   "metadata": {},
   "source": [
    "Similar to question 2.b., we take intergral of both sides:\n",
    "$$\n",
    "X_T = X_t e^{(\\gamma (r-q) + \\frac{1}{2}\\gamma(\\gamma-1)\\sigma^2)(T−t)+\\gamma\\sigma(W_T−W_t)}\n",
    "$$"
   ]
  },
  {
   "cell_type": "markdown",
   "metadata": {},
   "source": [
    "******"
   ]
  },
  {
   "cell_type": "markdown",
   "metadata": {},
   "source": [
    "e. Finally, show that for all positive payoff $g$ and $\\gamma = \\frac{1 − 2(r − q)}{\\sigma^2}$\n",
    "$$\n",
    "\\mathbb{E}^{\\mathbb{Q}}\\big[g(S_T)\\big] = \\mathbb{E}^{\\mathbb{Q}}\\bigg[ \\bigg( \\frac{S_T}{x} \\bigg)^\\gamma g \\bigg( \\frac{x^2}{S_T} \\bigg) \\bigg] \n",
    "$$\n",
    "(Hint: use the variable $X$ introduced in d.)"
   ]
  },
  {
   "cell_type": "markdown",
   "metadata": {},
   "source": [
    "**Answer:**"
   ]
  },
  {
   "cell_type": "markdown",
   "metadata": {},
   "source": []
  },
  {
   "cell_type": "markdown",
   "metadata": {},
   "source": [
    "******"
   ]
  },
  {
   "cell_type": "markdown",
   "metadata": {},
   "source": [
    "## Question 3"
   ]
  },
  {
   "cell_type": "markdown",
   "metadata": {},
   "source": [
    "**(Schaeffer and Schwartz model)** We consider a two-factor interest rate model consisting of the long rate $l$ and the spread $s$ between the short rate and long rate, i.e., $s = r − l$,\n",
    "$$\n",
    "ds = \\beta_s(s,l,t)dt + \\eta_s(s,l,t)dW_s \\\\\n",
    "d\\mathscr{l} = \\beta_{\\mathscr{l}}(r,l,t)dt + \\eta_{\\mathscr{l}}(r,l,t)dW_\\mathscr{l} \\\\\n",
    "$$\n",
    "Moreover, empirical evidence shows that the long rate and the spread are almost uncorrelated, thus we suppose $d\\langle W_s,W_\\mathscr{l}\\rangle_t = 0$ "
   ]
  },
  {
   "cell_type": "markdown",
   "metadata": {},
   "source": [
    "A. Show that the price of a zero-coupon bond $B(s, \\mathscr{l}, t)$ veriﬁes\n",
    "$$\n",
    "\\frac{\\partial B}{\\partial t}+ \\frac{\\eta_s^2 }{2} \\frac{\\partial^2 B}{\\partial s^2}+ \\frac{\\eta_\\mathscr{l}^2}{2} \\frac{\\partial^2 f}{\\partial \\mathscr{l}^2} + (\\beta_s -\\lambda_s \\eta_s) \\frac{\\partial B}{\\partial s} + (\\beta_\\mathscr{l}- \\lambda_\\mathscr{l}\\eta_\\mathscr{l}) \\frac{\\partial B}{\\partial \\mathscr{l}} - (s+l)B =  0 \n",
    "$$\n",
    "where $\\lambda_s/\\lambda_\\mathscr{l} $ is the market price of the spread/long rate risk, respectively"
   ]
  },
  {
   "cell_type": "markdown",
   "metadata": {},
   "source": [
    "**Answer:**"
   ]
  },
  {
   "attachments": {},
   "cell_type": "markdown",
   "metadata": {},
   "source": [
    "Applied Ito formula on $B(r,\\mathscr{l},t)$ we have:\n",
    "$$\n",
    "dB(s,\\mathscr{l},t) = \\frac{\\partial B}{\\partial s}ds + \\frac{\\partial B}{\\partial \\mathscr{l}}d\\mathscr{l} + \\frac{\\partial B}{\\partial t}dt + \\frac{1}{2}\\frac{\\partial^2 B}{\\partial s^2}d\\langle s \\rangle + \\frac{1}{2}\\frac{\\partial^2 B}{\\partial l^2}d\\langle \\mathscr{l} \\rangle + \\frac{1}{2}\\frac{\\partial^2 B}{\\partial t^2}d\\langle t \\rangle \\\\+ \\frac{1}{2}\\frac{\\partial^2 B}{\\partial s\\partial \\mathscr{l}}d\\langle s,\\mathscr{l} \\rangle + \\frac{1}{2}\\frac{\\partial^2 B}{\\partial s\\partial t}d\\langle s,t \\rangle + \\frac{1}{2}\\frac{\\partial^2 B}{\\partial \\mathscr{l}\\partial t}d\\langle \\mathscr{l},t \\rangle\n",
    "\\quad (1)\n",
    "$$ \n",
    "\n",
    "On the other hand, we got:\n",
    "$$\n",
    "  \\begin{cases}\n",
    "    dW^2_t = dt       \\\\\n",
    "    dW^2_\\mathscr{l} = dt \\\\\n",
    "    d\\langle W_s,W_\\mathscr{l}\\rangle = 0 \\\\\n",
    "    dt^i = 0 \\quad \\forall i>1\n",
    "  \\end{cases}\n",
    "$$"
   ]
  },
  {
   "attachments": {},
   "cell_type": "markdown",
   "metadata": {},
   "source": [
    "Then\n",
    "$$\n",
    "\\begin{alignat}{3}\n",
    "  &\\begin{cases}\n",
    "        &ds \n",
    "        &= \\beta_s(s,\\mathscr{l},t)dt + \\eta_s(s,\\mathscr{l},t)dW_s       \\\\\n",
    "        &d\\mathscr{l} \n",
    "        &= \\beta_{\\mathscr{l}}(s,\\mathscr{l},t)dt + \\eta_{\\mathscr{l}}(s,\\mathscr{l},t)dW_\\mathscr{l} \\\\\n",
    "        &d\\langle s,\\mathscr{l} \\rangle \n",
    "        = ds \\times d\\mathscr{l} &= \\bigg(\\beta_s(s,\\mathscr{l},t)dt + \\eta_s(s,\\mathscr{l},t)dW_s\\bigg)\\times\\bigg(\\beta_{\\mathscr{l}}(s,\\mathscr{l},t)dt + \\eta_{\\mathscr{l}}(s,\\mathscr{l},t)dW_\\mathscr{l}\\bigg)\n",
    "  \\end{cases}\\\\\n",
    "  &\\Leftrightarrow \\\\\n",
    "  &\\begin{cases}\n",
    "        &(ds)^2\n",
    "        &= (\\beta_s(s,\\mathscr{l},t)dt)^2 + 2*\\beta_s(s,\\mathscr{l},t)dt*\\eta_s(s,\\mathscr{l},t)dW_s + (\\eta_s(s,\\mathscr{l},t)dW_s)^2       \\\\\n",
    "        &(d\\mathscr{l})^2 \n",
    "        &= (\\beta_{\\mathscr{l}}(s,\\mathscr{l},t)dt)^2 + 2*\\beta_{\\mathscr{l}}(s,\\mathscr{l},t)dt*\\eta_{\\mathscr{l}}(s,\\mathscr{l},t)dW_s + (\\eta_{\\mathscr{l}}(s,\\mathscr{l},t)dW_s)^2 \\\\\n",
    "        &d\\langle s,\\mathscr{l} \\rangle \n",
    "        &= \\eta_s(s,\\mathscr{l},t) \\eta_{\\mathscr{l}}(s,\\mathscr{l},t)\\langle dW_s;dW_\\mathscr{l} \\rangle\n",
    "  \\end{cases}\\\\\n",
    "  &\\Leftrightarrow \\\\\n",
    "  &\\begin{cases}\n",
    "    &(ds)^2 \n",
    "    &= \\eta^2_s(s,\\mathscr{l},t)dt      \\\\\n",
    "    &(d\\mathscr{l})^2 \n",
    "    &= \\eta^2_{\\mathscr{l}}(s,\\mathscr{l},t)dt\\\\\n",
    "    &d\\langle s,\\mathscr{l} \\rangle \n",
    "    &= \\eta_s(s,\\mathscr{l},t) \\eta_{\\mathscr{l}}(s,\\mathscr{l},t) \\times 0 = 0\n",
    "  \\end{cases}\n",
    "\\end{alignat}\n",
    "$$"
   ]
  },
  {
   "attachments": {},
   "cell_type": "markdown",
   "metadata": {},
   "source": [
    "Replace back into (1):\n",
    "$$\n",
    "\\begin{alignat}{2}\n",
    "    dB(s,\\mathscr{l},t) \n",
    "    &= \\frac{\\partial B}{\\partial s}\\big[ \\beta_s(s,\\mathscr{l},t)dt + \\eta_s(s,\\mathscr{l},t)dW_s \\big] + \\frac{\\partial B}{\\partial \\mathscr{l}}\\big[ \\beta_{\\mathscr{l}}(s,\\mathscr{l},t)dt + \\eta_{\\mathscr{l}}(s,\\mathscr{l},t)dW_\\mathscr{l} \\big] \\\\ &+ \\frac{1}{2}\\frac{\\partial^2 B}{\\partial s^2} \\eta^2_s(s,\\mathscr{l},t)dt + \\frac{1}{2}\\frac{\\partial^2 B}{\\partial l^2} \\eta^2_{\\mathscr{l}}(s,\\mathscr{l},t)dt + \\frac{\\partial B}{\\partial t}dt \\\\\n",
    "    &= \\frac{\\partial B}{\\partial s} \\beta_s(s,\\mathscr{l},t)dt + \\frac{\\partial B}{\\partial s} \\eta_s(s,\\mathscr{l},t)dW_s + \\frac{\\partial B}{\\partial \\mathscr{l}}\\beta_{\\mathscr{l}}(s,\\mathscr{l},t)dt + \\frac{\\partial B}{\\partial \\mathscr{l}}\\eta_{\\mathscr{l}}(s,\\mathscr{l},t)dW_\\mathscr{l} \\\\ &+ \\frac{1}{2}\\frac{\\partial^2 B}{\\partial s^2} \\eta^2_s(s,\\mathscr{l},t)dt + \\frac{1}{2}\\frac{\\partial^2 B}{\\partial \\mathscr{l}^2} \\eta^2_{\\mathscr{l}}(s,\\mathscr{l},t)dt + \\frac{\\partial B}{\\partial t}dt \\\\\n",
    "    &= \\bigg[\\frac{\\partial B}{\\partial s} \\beta_s(s,\\mathscr{l},t) + \\frac{\\partial B}{\\partial \\mathscr{l}}\\beta_{\\mathscr{l}}(s,\\mathscr{l},t) + \\frac{1}{2}\\frac{\\partial^2 B}{\\partial s^2} \\eta^2_s(s,\\mathscr{l},t) + \\frac{1}{2}\\frac{\\partial^2 B}{\\partial \\mathscr{l}^2} \\eta^2_{\\mathscr{l}}(s,\\mathscr{l},t) + \\frac{\\partial B}{\\partial t}\\bigg] dt \\\\ &+ \\frac{\\partial B}{\\partial s} \\eta_s(s,\\mathscr{l},t)dW_s + \\frac{\\partial B}{\\partial \\mathscr{l}}\\eta_{\\mathscr{l}}(s,\\mathscr{l},t)dW_\\mathscr{l}\n",
    "\\end{alignat}\n",
    "$$"
   ]
  },
  {
   "cell_type": "markdown",
   "metadata": {},
   "source": [
    "Then\n",
    "$$\n",
    "\\begin{alignat}{2}\n",
    "    \\frac{dB}{B} \n",
    "    &= \\frac{1}{B}\\bigg[\\frac{\\partial B}{\\partial s} \\beta_s(s,\\mathscr{l},t) + \\frac{\\partial B}{\\partial \\mathscr{l}}\\beta_{\\mathscr{l}}(s,\\mathscr{l},t) + \\frac{1}{2}\\frac{\\partial^2 B}{\\partial s^2} \\eta^2_s(s,\\mathscr{l},t) + \\frac{1}{2}\\frac{\\partial^2 B}{\\partial \\mathscr{l}^2} \\eta^2_{\\mathscr{l}}(s,\\mathscr{l},t) +\\frac{\\partial B}{\\partial t} \\bigg] dt \\\\&+ \\frac{1}{B}\\frac{\\partial B}{\\partial s} \\eta_s(s,\\mathscr{l},t)dW_s + \\frac{1}{B}\\frac{\\partial B}{\\partial \\mathscr{l}}\\eta_{\\mathscr{l}}(s,\\mathscr{l},t)dW_\\mathscr{l} \\\\\n",
    "    &= \\mu(s,\\mathscr{l},t) dt + \\sigma_s (s,\\mathscr{l},t)dW_s + \\sigma_\\mathscr{l}(s,\\mathscr{l},t) dW_\\mathscr{l} \\quad \\quad (*)\n",
    "\\end{alignat} \n",
    "$$"
   ]
  },
  {
   "cell_type": "markdown",
   "metadata": {},
   "source": [
    "According to common formula of the Market Price of Risk: $\\mu-r=\\lambda.\\sigma$. Then due to the two types for interest rate consisted in this model as long rate $\\mathscr{l}$ and short rate $s$. We have:\n",
    "$$\n",
    "\\mu-r=\\lambda_s\\times\\sigma_s + \\lambda_\\mathscr{l}\\times\\sigma_\\mathscr{l} \\\\\n",
    "\\Leftrightarrow \\mu(s,\\mathscr{l},t) - r = \\lambda_s\\times\\sigma_s (s,\\mathscr{l},t) + \\lambda_\\mathscr{l}\\times\\sigma_\\mathscr{l}(s,\\mathscr{l},t)\n",
    "$$"
   ]
  },
  {
   "attachments": {},
   "cell_type": "markdown",
   "metadata": {},
   "source": [
    "Then\n",
    "$$\n",
    "\\frac{1}{B}\\bigg[\\frac{\\partial B}{\\partial t} + \\frac{\\partial B}{\\partial s} \\beta_s + \\frac{\\partial B}{\\partial \\mathscr{l}}\\beta_{\\mathscr{l}} + \\frac{1}{2}\\frac{\\partial^2 B}{\\partial s^2} \\eta^2_s + \\frac{1}{2}\\frac{\\partial^2 B}{\\partial \\mathscr{l}^2} \\eta^2_{\\mathscr{l}} \\bigg] - r = \\lambda_s \\frac{1}{B}\\frac{\\partial B}{\\partial s} \\eta_s + \\frac{1}{B}\\lambda_\\mathscr{l}\\frac{\\partial B}{\\partial \\mathscr{l}}\\eta_{\\mathscr{l}} \\\\\n",
    "\\Leftrightarrow \n",
    "\\bigg[\\frac{\\partial B}{\\partial t} + \\frac{\\partial B}{\\partial s} \\beta_s + \\frac{\\partial B}{\\partial \\mathscr{l}}\\beta_{\\mathscr{l}} + \\frac{1}{2}\\frac{\\partial^2 B}{\\partial s^2} \\eta^2_s + \\frac{1}{2}\\frac{\\partial^2 B}{\\partial \\mathscr{l}^2} \\eta^2_{\\mathscr{l}} \\bigg] - Br = \\lambda_s \\frac{\\partial B}{\\partial s} \\eta_s + \\lambda_\\mathscr{l}\\frac{\\partial B}{\\partial \\mathscr{l}}\\eta_{\\mathscr{l}} \\\\\n",
    "\\Leftrightarrow \n",
    "\\bigg[\\frac{\\partial B}{\\partial t} + \\frac{\\partial B}{\\partial s} \\beta_s + \\frac{\\partial B}{\\partial \\mathscr{l}}\\beta_{\\mathscr{l}} + \\frac{1}{2}\\frac{\\partial^2 B}{\\partial s^2} \\eta^2_s + \\frac{1}{2}\\frac{\\partial^2 B}{\\partial \\mathscr{l}^2} \\eta^2_{\\mathscr{l}} \\bigg] - (s + \\mathscr{l})B = \\lambda_s \\frac{\\partial B}{\\partial s} \\eta_s + \\lambda_\\mathscr{l}\\frac{\\partial B}{\\partial \\mathscr{l}}\\eta_{\\mathscr{l}} \\\\\n",
    "\\Leftrightarrow\n",
    "\\frac{\\partial B}{\\partial t} + \\frac{\\partial B}{\\partial s} \\big[ \\beta_s - \\lambda_s \\eta_s \\big]+ \\frac{\\partial B}{\\partial \\mathscr{l}} \\big[ \\beta_{\\mathscr{l}} - \\lambda_\\mathscr{l}\\eta_{\\mathscr{l}} \\big]+ \\frac{1}{2}\\frac{\\partial^2 B}{\\partial s^2} \\eta^2_s + \\frac{1}{2}\\frac{\\partial^2 B}{\\partial \\mathscr{l}^2} \\eta^2_{\\mathscr{l}} - (s + \\mathscr{l})B = 0\n",
    "$$"
   ]
  },
  {
   "cell_type": "markdown",
   "metadata": {},
   "source": [
    "******"
   ]
  },
  {
   "cell_type": "markdown",
   "metadata": {},
   "source": [
    "B. Let $G$ be a *consol bond*, a perpetual bond (with inﬁnite maturity) pays coupon at a continuous constant rate $c$. Let $G(\\mathscr{l})$ denote the value of this bond, we admit that:\n",
    "$$\n",
    "G(\\mathscr{l}) = \\frac{c}{\\mathscr{l}}\n",
    "$$"
   ]
  },
  {
   "cell_type": "markdown",
   "metadata": {},
   "source": [
    "B.1. Apply Ito’s formula to express the dynamic of $G$ under the form\n",
    "$$\n",
    "\\frac{dG}{G} = \\mu_Gdt + \\sigma_G dW_\\mathscr{l}\n",
    "$$"
   ]
  },
  {
   "cell_type": "markdown",
   "metadata": {},
   "source": [
    "**Answer:**"
   ]
  },
  {
   "cell_type": "markdown",
   "metadata": {},
   "source": [
    "Apply Ito formula on $G(c,\\mathscr{l})$ we have:\n",
    "$$\n",
    "dG = \\frac{\\partial G}{\\partial c}dc + \\frac{\\partial G}{\\partial \\mathscr{l}}d\\mathscr{l} + \\frac{1}{2}\\frac{\\partial^2 G}{\\partial \\mathscr{l}^2}d \\langle \\mathscr{l} \\rangle\n",
    "$$\n"
   ]
  },
  {
   "cell_type": "markdown",
   "metadata": {},
   "source": [
    "We also have:\n",
    "$$\n",
    "  \\begin{cases}\n",
    "    \\frac{\\partial G}{\\partial \\mathscr{l}} = \\frac{c}{\\mathscr{l}^2} \\\\\n",
    "    \\frac{\\partial^2 G}{\\partial \\mathscr{l}^2} = \\frac{c}{l^3} \\\\\n",
    "    d\\mathscr{l} = \\beta_{\\mathscr{l}}dt + \\eta_{\\mathscr{l}}dW_\\mathscr{l}       \\\\\n",
    "    d \\langle \\mathscr{l} \\rangle = \\eta^2_{\\mathscr{l}}dt \\\\\n",
    "    dW^2_\\mathscr{l} = dt \\\\\n",
    "    d\\langle W_s,W_\\mathscr{l}\\rangle = 0 \\\\\n",
    "    dt^i = 0 \\quad \\forall i>1\n",
    "  \\end{cases}\n",
    "$$"
   ]
  },
  {
   "cell_type": "markdown",
   "metadata": {},
   "source": [
    "Then\n",
    "$$\n",
    "\\begin{align}\n",
    "dG\n",
    "&= 0 - \\frac{c}{\\mathscr{l}^2}\\big[\\beta_{\\mathscr{l}} dt + \\eta_{\\mathscr{l}}dW_{\\mathscr{l}}\\big] + \\frac{c}{\\mathscr{l}^3}\\eta_\\mathscr{l}^2dt\n",
    "\\\\\n",
    "&= \\frac{c}{\\mathscr{l}}\\bigg[-\\frac{1}{\\mathscr{l}}\\beta_\\mathscr{l}+\\frac{1}{\\mathscr{l}^2}\\eta_\\mathscr{l}^2\\bigg] dt - \\frac{1}{\\mathscr{l}^2}\\eta_\\mathscr{l}dW_\\mathscr{l} \\\\\n",
    "&= G\\bigg[-\\frac{1}{\\mathscr{l}}\\beta_\\mathscr{l}+\\frac{1}{\\mathscr{l}^2}\\eta_\\mathscr{l}^2\\bigg] dt - G\\frac{1}{\\mathscr{l}}\\eta_\\mathscr{l}dW_\\mathscr{l}\n",
    "\\end{align}\n",
    "$$"
   ]
  },
  {
   "cell_type": "markdown",
   "metadata": {},
   "source": [
    "Finally:\n",
    "$$\n",
    "\\begin{align}\n",
    "\\frac{dG}{G}\n",
    "&= \\bigg[-\\frac{1}{\\mathscr{l}}\\beta_\\mathscr{l}+\\frac{1}{\\mathscr{l}^2}\\eta_\\mathscr{l}^2\\bigg] dt - \\frac{1}{\\mathscr{l}}\\eta_\\mathscr{l}dW_\\mathscr{l} \\\\\n",
    "&= \\mu_Gdt + \\sigma_G dW_\\mathscr{l}\n",
    "\\end{align}\n",
    "$$\n",
    "With\n",
    "$$\n",
    "  \\begin{cases}\n",
    "    \\mu_G = -\\frac{1}{\\mathscr{l}}\\beta_\\mathscr{l}+\\frac{1}{\\mathscr{l}^2}\\eta_\\mathscr{l}^2 \\\\\n",
    "    \\sigma_G = -\\frac{1}{\\mathscr{l}}\\eta_\\mathscr{l} \\\\\n",
    "  \\end{cases}\n",
    "$$"
   ]
  },
  {
   "cell_type": "markdown",
   "metadata": {},
   "source": [
    "******"
   ]
  },
  {
   "cell_type": "markdown",
   "metadata": {},
   "source": [
    "B.2. The instantaneous rate of return of a consol bond is the sum of coupon rate $\\mathscr{l}$ and the drift rate of $G, \\mu_c = \\mu_G + \\mathscr{l}$, while the volatility is the same as the volatility of $G, \\sigma_c = \\sigma_G$. Show that\n",
    "$$\n",
    "\\beta_\\mathscr{l} - \\lambda_\\mathscr{l}\\eta_\\mathscr{l} = \\frac{\\eta^2_\\mathscr{l}}{\\mathscr{l}} - s\\mathscr{l}\n",
    "$$"
   ]
  },
  {
   "cell_type": "markdown",
   "metadata": {},
   "source": [
    "**Answer:**"
   ]
  },
  {
   "cell_type": "markdown",
   "metadata": {},
   "source": [
    "Consider $\\lambda_\\mathscr{l}$ is the market price of risk, then we have:\n",
    "$$\n",
    "\\begin{align}\n",
    "\\lambda_\\mathscr{l}\n",
    "&= \\frac{\\mu_c-r}{\\sigma_c} \\\\\n",
    "\\Leftrightarrow\n",
    "\\lambda_\\mathscr{l}\n",
    "&= \\frac{\\mu_G+\\mathscr{l}-s-\\mathscr{l}}{\\sigma_G} \\\\\n",
    "\\Leftrightarrow\n",
    "\\lambda_\\mathscr{l}\n",
    "&= \\frac{-\\frac{1}{\\mathscr{l}}\\beta_\\mathscr{l}+\\frac{1}{\\mathscr{l}^2}\\eta_\\mathscr{l}^2-s}{-\\frac{1}{\\mathscr{l}}\\eta_\\mathscr{l}} \\\\\n",
    "\\Leftrightarrow\n",
    "-\\lambda_\\mathscr{l} \\frac{1}{\\mathscr{l}}\\eta_\\mathscr{l}\n",
    "&= -\\frac{1}{\\mathscr{l}}\\beta_\\mathscr{l}+\\frac{1}{\\mathscr{l}^2}\\eta_\\mathscr{l}^2-s \\\\\n",
    "\\Leftrightarrow\n",
    "-\\lambda_\\mathscr{l}\\eta_\\mathscr{l}\n",
    "&= -\\beta_\\mathscr{l}+\\frac{1}{\\mathscr{l}}\\eta_\\mathscr{l}^2-s\\mathscr{l} \\\\\n",
    "\\Leftrightarrow\n",
    "\\beta_\\mathscr{l} - \\lambda_\\mathscr{l}\\eta_\\mathscr{l} \n",
    "&= \\frac{\\eta^2_\\mathscr{l}}{\\mathscr{l}} - s\\mathscr{l}\n",
    "\\end{align}\n",
    "$$"
   ]
  }
 ],
 "metadata": {
  "kernelspec": {
   "display_name": "Python 3",
   "language": "python",
   "name": "python3"
  },
  "language_info": {
   "codemirror_mode": {
    "name": "ipython",
    "version": 3
   },
   "file_extension": ".py",
   "mimetype": "text/x-python",
   "name": "python",
   "nbconvert_exporter": "python",
   "pygments_lexer": "ipython3",
   "version": "3.6.6"
  }
 },
 "nbformat": 4,
 "nbformat_minor": 2
}
