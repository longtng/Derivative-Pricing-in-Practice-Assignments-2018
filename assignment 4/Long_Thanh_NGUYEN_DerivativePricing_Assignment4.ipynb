{
 "cells": [
  {
   "cell_type": "markdown",
   "metadata": {},
   "source": [
    "## Assignment 4\n",
    "<p>Jun 2018 </p>\n",
    "<p>Long Thanh NGUYEN </p>\n",
    "<p>long.nguyen2017@qcf.jvn.edu.vn </p>\n"
   ]
  },
  {
   "cell_type": "markdown",
   "metadata": {},
   "source": [
    "# 2. Question \n",
    "Let us suppose the underlying asset price, $S_t$ , veriﬁes the following dynamics under $\\mathbb{Q}$\n",
    "$$dS_t = S_t(rdt + \\sigma dW_t),$$\n",
    "where W. is a standard Brownian motion under $(\\mathbb{Q}, \\mathcal{F}·)$.\n",
    "\n",
    "We consider the pricing of an Asian option where the payoff function g depends not only on the ﬁnal but also on the average price,\n",
    "$$A_t=\\frac{1}{t}\\int_{0}^{t} S_u du $$\n",
    "\n",
    "The price of such an option at t is $V(t,S,A)$. We recall that, under $\\mathbb{Q}, (e^{−rt}V(t,S_t,A_t))_t$\n",
    "is a martingale. For all numerical applications we take $g(S, A) = max( A − K, 0)$ (Asian call option with ﬁxed strike), and $S_0 = 100, K = 100, \\sigma = 0.3, r = 0.02, T = 1.$"
   ]
  },
  {
   "cell_type": "markdown",
   "metadata": {},
   "source": [
    "## 2.1 Monte-Carlo simulation"
   ]
  },
  {
   "cell_type": "markdown",
   "metadata": {},
   "source": [
    "#### Question 1.\n",
    "Provide an expression allowing one to use the Monte-Carlo to estimate $V (t, S, A)$ from $g(S_T, A_T)$."
   ]
  },
  {
   "cell_type": "markdown",
   "metadata": {},
   "source": [
    "**Answer:**"
   ]
  },
  {
   "cell_type": "markdown",
   "metadata": {},
   "source": [
    "We got the price of an option at time t is the expected payoff value which is discounted by the risk free rate:\n",
    "$$ V(t,S,A) = e^{-r(T-t)} \\mathbb{E}^{\\mathcal{Q}} \\big[g(S_T,A_T)\\big] $$\n",
    "\n",
    "By using Monte-Carlo method to estimate $V (t, S, A)$ from $g(S_T, A_T)$, we got \n",
    "$$\\mathbb{E}^{\\mathcal{Q}} \\big[g(S_T,A_T)\\big] \\approx \\frac{ \\displaystyle\\sum_{i=1}^N g(S_T^{(i)},A_T^{(i)}) }{n}$$\n",
    "\n",
    "Then \n",
    "$$ V(t,S,A) \\approx V^{MC}(t,S,A) \\approx e^{-r(T-t)} \\frac{ \\displaystyle\\sum_{i=1}^N g(S_T^{(i)},A_T^{(i)}) }{n}$$\n",
    "\n",
    "\n",
    "\n",
    "\n"
   ]
  },
  {
   "cell_type": "markdown",
   "metadata": {},
   "source": [
    "******"
   ]
  },
  {
   "cell_type": "markdown",
   "metadata": {},
   "source": [
    "#### Question 2.\n",
    "In this case, we need to simulate not only $S_T$ but also $S_t$ for all $t < T$ to have $A_T$. </br>\n",
    "Show that\n",
    "$$ S_t = S_0 exp^{\\left( r- \\frac{\\sigma^2}{2} \\right) t + \\sigma W_t} $$\n",
    "Describe how to simulate directly $ \\{ S_t, t = t_k = k.T/N = k. \\delta t \\}_{k=1,...,N} $"
   ]
  },
  {
   "cell_type": "markdown",
   "metadata": {},
   "source": [
    "**Answer:**"
   ]
  },
  {
   "cell_type": "markdown",
   "metadata": {},
   "source": [
    "Let $f(S_t) = ln(S_t)$, we apply Itô Lemma as follow:\n",
    "$$ df(S_t,t)=rdt+\\sigma dW_t $$\n",
    "We also have\n",
    "$$\n",
    "  \\begin{cases}\n",
    "    \\frac{\\partial f}{\\partial S_t} = \\frac{1}{S_t}       \\\\\n",
    "    \\frac{\\partial f}{\\partial t} = 0 \\\\\n",
    "    \\frac{\\partial^2 f}{\\partial^2 {S_t}^2} = \\frac{-1}{S_t^2} \\\\\n",
    "    d\\langle S_t \\rangle = \\sigma^2 {S_t}^2 dt\n",
    "  \\end{cases}\n",
    "$$\n",
    "Then"
   ]
  },
  {
   "cell_type": "markdown",
   "metadata": {},
   "source": [
    "$$\n",
    "\\begin{align}\n",
    "    df(S_t,t) = d\\big(ln(S_t)\\big) \n",
    "        &= \\bigg(\\frac{\\partial f}{\\partial S_t} +  \\frac{\\partial f}{\\partial t}+\\frac{1}{2}\\frac{\\partial^2 f}{\\partial^2 {S_t}^2}\\bigg)dt + \\bigg(\\frac{\\partial f}{\\partial S_t}b\\bigg)W_t \\\\\n",
    "        &= \\frac{1}{S_t}dS_t + \\frac{1}{2} \\left( \\frac{-1}{S_t^2} \\right) d\\langle S_t \\rangle \\\\\n",
    "        &= \\frac{1}{S_t}. S_t(rdt + \\sigma dW_t) - \\frac{1}{2} \\left( \\frac{1}{S_t^2} \\right) . S_t^2 \\sigma^2 dt \\text{ (As } dS_t = rS_t dt + \\sigma S_t dW_t \\text{ )} \\\\\n",
    "        &= \\left( r - \\frac{\\sigma^2}{2} \\right) dt + \\sigma dW_t \\\\ \n",
    "\\Leftrightarrow    \n",
    "    \\int\\limits_0^t dln(S_u) \n",
    "        &= \\bigg(r-\\frac{\\sigma^2}{2}\\bigg)\\int\\limits_0^tdu + \\sigma\\int\\limits_0^tdW_u \\\\\n",
    "\\Leftrightarrow\n",
    "    ln\\bigg(\\frac{S_t}{S_0}\\bigg) \n",
    "        &= \\bigg(r-\\frac{\\sigma^2}{2}\\bigg)t + \\sigma W_t \\\\\n",
    "\\Leftrightarrow\n",
    "    \\frac{S_t}{S_0} \n",
    "        &= exp^{\\big(r-\\frac{\\sigma^2}{2}\\big)t + \\sigma W_t}    \\\\\n",
    "\\Leftrightarrow\n",
    "    S_t \n",
    "        &= S_0 exp^{\\big(r-\\frac{\\sigma^2}{2}\\big)t + \\sigma W_t} \\text{ (proved)}\n",
    "\\end{align}\n",
    "$$"
   ]
  },
  {
   "cell_type": "markdown",
   "metadata": {},
   "source": [
    "The interval $[0,T]$ will be divided into N steps. The step size will be noted $\\delta_t=T/N$ and we define the times $t = t_k = k · T/N = k·\\delta_t$ with k=1,2,...,N.\n",
    "\n",
    "To simulate $S_t$, we can simulate the brownian motion $W_t$ and then computing $S_t$ with the previous formula.\n",
    "\n",
    "To simulate $W_t$:\n",
    "* we draw $(G_i)_{i=1,...,n} \\sim \\mathcal{N}(0,1) \\text{ and } i \\in \\{1,..,n\\} i.i.d$\n",
    "* $W_0=0$\n",
    "* for $t = t_k = k · T/N = k·\\delta_t$ do $W_t=W_{t-1}+\\sqrt{t_i-t_{i-1}}*G_i$\n",
    "\n",
    "Then, we can stimulate $S_T$ with all the known variable: $S_0, r, sigma, t, W_t$.\n",
    "\n",
    "$S_t=S_0exp^{(r-\\sigma^2)t + \\sigma W_t}$\n"
   ]
  },
  {
   "cell_type": "markdown",
   "metadata": {},
   "source": [
    "******"
   ]
  },
  {
   "cell_type": "markdown",
   "metadata": {},
   "source": [
    "#### Question 3.\n",
    "Turning to $A_T$, an easy way is to approximate it by (scheme 1)\n",
    "$$ A_T = \\frac{1}{T} \\int_0^T S_udu \\approx \\frac{1}{N} \\displaystyle\\sum_{k=1}^N S_{t_k} $$\n",
    "We provide another method to simulate $A_T$ , we ﬁrst remark that, from the simulation of $S_T$ we also obtain $W_{t_k}$ . Suppose we have $\\left\\{ W_{t_k} = w_k \\right\\}$ $k=0,...,N$ , we seek to simulate exactly the distribution of\n",
    "$$ I_k := \\int_{t_k}^{t_{k+1}} W_udu $$"
   ]
  },
  {
   "cell_type": "markdown",
   "metadata": {},
   "source": [
    "We admit (but it can be showed easily) that\n",
    "$$ I_k \\bigm\\vert (W_{t_k} = w_k, W_{t_{k+1}} = w_{k+1}) \\sim \\mathcal{N}\\bigg(\\frac{w_k+w_{k+1}}{2}\\delta t, \\frac{(\\delta  t)^3}{3}\\bigg)$$"
   ]
  },
  {
   "cell_type": "markdown",
   "metadata": {},
   "source": [
    "Now we rewrite\n",
    "$$ T \\cdot A_T = \\int_0^T S_udu = \\displaystyle\\sum_{k=0}^{N-1} \\int_{t_k}^{t_{k+1}} S_udu = \\displaystyle\\sum_{k=0}^{N-1} \\int_{t_k}^{t_{k+1}} S_{t_k}exp^{( r - \\frac{\\sigma^2}{2})(u - t_k) + \\sigma (W_u - W_{t_k})}du $$"
   ]
  },
  {
   "cell_type": "markdown",
   "metadata": {},
   "source": [
    "Finally, using the ﬁrst order development $e^x = 1 + x + o(x)$, we have (scheme 2)\n",
    "$$ A_T \\approx \\frac{1}{T} \\displaystyle\\sum_{k=0}^{N-1} S_{t_k} \\bigg( \\delta t + \\bigg( r - \\frac{\\sigma^2}{2} \\bigg) \\frac{(\\delta t)^2}{2} + \\sigma I_k - \\sigma \\delta t W_t \\bigg) $$\n",
    "Implement the above two schemes and compute the option price, compare their quality (in term of the estimation variance). For all numerical applications we take N = 1000 (time step $\\delta t = 0.001$) and $M \\in \\{10^2 , 10^3 , . . . , 10^6 \\}$ (number of simulations)."
   ]
  },
  {
   "cell_type": "markdown",
   "metadata": {},
   "source": [
    "**Answer:**"
   ]
  },
  {
   "cell_type": "markdown",
   "metadata": {},
   "source": [
    "******"
   ]
  },
  {
   "cell_type": "markdown",
   "metadata": {},
   "source": [
    "## 2.2 PDE"
   ]
  },
  {
   "cell_type": "markdown",
   "metadata": {},
   "source": [
    "#### Question 1.\n",
    "Show that $V$ veriﬁes the following PDE\n",
    "$$ \\frac{\\partial V}{\\partial t} + \\frac{\\sigma^2 S^2}{2} \\frac{\\partial^2 V}{\\partial S^2} + rS \\frac{\\partial V}{\\partial S} + \\frac{S-A}{t} \\frac{\\partial V}{\\partial A} - rV = 0, \\ V(t,S,A) = g(S,A) $$"
   ]
  },
  {
   "cell_type": "markdown",
   "metadata": {},
   "source": [
    "**Answer:**"
   ]
  },
  {
   "cell_type": "markdown",
   "metadata": {},
   "source": [
    "Applying **Itô formula** to $V(t,S,A)$, we got:\n",
    "$$\n",
    "d \\big( V(t,S,A) \\big)\n",
    "    = \\frac{\\partial V}{\\partial t}dt + \\frac{\\partial V}{\\partial S}dS + \\frac{\\partial V}{\\partial A}dA + \\frac{1}{2} \\frac{\\partial^2 V}{\\partial S^2}d\\langle S \\rangle_t + \\frac{1}{2} \\frac{\\partial^2 V}{\\partial A^2}d \\langle A \\rangle_t + \\frac{\\partial^2 V}{\\partial A \\partial S}d \\langle S,A \\rangle_t \\text{ (1) }\n",
    "$$ "
   ]
  },
  {
   "cell_type": "markdown",
   "metadata": {},
   "source": [
    "We also have\n",
    "$$\n",
    "  \\begin{cases}\n",
    "    dS = rSdt + \\sigma S d W_t       \\\\\n",
    "    A_T = \\frac{1}{T} \\int_0^T S_udu \\Rightarrow dA = \\frac{S_t - S_0}{t} dt \\text{ ( } \\lim_{t \\to 0} A_t = S_0 \\text{ ) } \\Rightarrow dA = \\frac{S_t - A}{t} dt  \\\\\n",
    "    dS \\text { got stochastic term: } \\sigma S d W_t \\Rightarrow d \\langle S \\rangle_t = \\sigma^2 S^2 dt \\\\\n",
    "    dA \\text { doesnot have stochastic term } \\Rightarrow d \\langle A \\rangle_t = 0 \\text{ and } d \\langle S,A \\rangle_t = 0 \\\\\n",
    "  \\end{cases}\n",
    "$$"
   ]
  },
  {
   "cell_type": "markdown",
   "metadata": {},
   "source": [
    "Replace into (1) we got\n",
    "$$\n",
    "d \\big( V(t,S,A) \\big)\n",
    "    = \\frac{\\partial V}{\\partial t}dt + \\frac{\\partial V}{\\partial S}\\big(rSdt + \\sigma S d W_t\\big) + \\frac{\\partial V}{\\partial A}\\big(\\frac{S_t - A}{t}\\big)dt + \\frac{1}{2} \\frac{\\partial^2 V}{\\partial S^2}\\sigma^2 S^2 dt  \n",
    "$$"
   ]
  },
  {
   "cell_type": "markdown",
   "metadata": {},
   "source": [
    "According to the \"No arbitrage strategy\" rule, we have \n",
    "$$\n",
    "\\begin{alignat}{2}\n",
    "  &\\Rightarrow\n",
    "  dV \\quad &= rVdt \\\\\n",
    "  &\\Leftrightarrow\n",
    "  \\frac{\\partial V}{\\partial t}dt + \\frac{\\partial V}{\\partial S}\\big(rSdt + \\sigma S d W_t\\big) + \\frac{\\partial V}{\\partial A}\\big(\\frac{S_t - A}{t}\\big)dt + \\frac{1}{2} \\frac{\\partial^2 V}{\\partial S^2}\\sigma^2 S^2 dt - rVdt &= 0 \\\\\n",
    "  &\\Leftrightarrow\n",
    "  \\frac{\\partial V}{\\partial t}dt + \\frac{\\partial V}{\\partial S}rSdt + \\frac{\\partial V}{\\partial S}\\sigma S d W_t + \\frac{\\partial V}{\\partial A}\\big(\\frac{S_t - A}{t}\\big)dt + \\frac{1}{2} \\frac{\\partial^2 V}{\\partial S^2}\\sigma^2 S^2 dt - rVdt &= 0 \\\\ \n",
    "  &\\Leftrightarrow\n",
    "  dt\\bigg(\\frac{\\partial V}{\\partial t} + \\frac{\\partial V}{\\partial S}rS + \\frac{\\partial V}{\\partial A}\\big(\\frac{S_t - A}{t}\\big) + \\frac{1}{2} \\frac{\\partial^2 V}{\\partial S^2}\\sigma^2 S^2 - rV \\bigg) + \\frac{\\partial V}{\\partial S}\\sigma S d W_t &= 0 \\\\  \n",
    "  &\\Rightarrow\n",
    "  \\frac{\\partial V}{\\partial t} + \\frac{\\partial V}{\\partial S}rS + \\frac{\\partial V}{\\partial A}\\big(\\frac{S_t - A}{t}\\big) + \\frac{1}{2} \\frac{\\partial^2 V}{\\partial S^2}\\sigma^2 S^2 - rV &= 0 \\\\\n",
    "\\end{alignat}\n",
    "$$\n",
    "**proved**"
   ]
  },
  {
   "cell_type": "markdown",
   "metadata": {},
   "source": [
    "******"
   ]
  },
  {
   "cell_type": "markdown",
   "metadata": {},
   "source": [
    "#### Question 2.\n",
    "For some speciﬁc payoff (as in our case), we make the following change of variables\n",
    "$$ \\xi = \\frac{K - tA / T}{S}, V(t,S,A) = Sf(t,\\xi) $$\n",
    "Verify that $f$ solves\n",
    "$$ \\frac{\\partial f}{\\partial t} + \\frac{\\sigma^2 \\xi^2}{2} \\frac{\\partial^2 f}{\\partial \\xi^2} - \\left( \\frac{1}{T} + r \\xi \\right) \\frac{\\partial f}{\\partial \\xi} = 0, \\ f(T,\\xi) = \\phi (\\xi) := max(-\\xi,0)$$\n",
    "We also admit that\n",
    "$$ f(t,\\xi) \\approx \\frac{1}{rT} \\left(1 - e^{-r(T-t)} \\right) - \\xi e^{-r(T-t)} \\ \\text{when} \\ \\xi \\to - \\infty, \\ f(t,\\xi) = 0 \\ \\text{when} \\ \\xi \\to \\infty $$"
   ]
  },
  {
   "cell_type": "markdown",
   "metadata": {},
   "source": [
    "**Answer:**"
   ]
  },
  {
   "cell_type": "markdown",
   "metadata": {},
   "source": [
    "We have:"
   ]
  },
  {
   "cell_type": "markdown",
   "metadata": {},
   "source": [
    "$$ \\xi = \\frac{K - tA / T}{S} = (K- \\frac{tA}{T})S^{-1} = KS^{-1} - tAT^{-1}S^{-1} $$"
   ]
  },
  {
   "cell_type": "markdown",
   "metadata": {},
   "source": [
    "Apply **Ito Lemma** on $\\xi(t,S)$, we get:\n",
    "\n",
    "$$\n",
    "\\begin{align}\n",
    "d\\xi \n",
    "    &= \\frac{\\partial\\xi}{\\partial t}dt + \\frac{\\partial\\xi}{\\partial S}dS + \\frac{1}{2} \\frac{\\partial^2\\xi}{\\partial S^2}d\\langle S\\rangle \\\\\n",
    "    &= \\frac{-A}{TS}dt + \\frac{-\\xi}{S}(Srdt + S\\sigma dW_t) + \\frac{1}{2} \\frac{2\\xi}{S^2}(S^2\\sigma^2dt) \\\\\n",
    "    &= \\frac{-A}{TS}dt + \\xi \\left( -rdt - \\sigma dW_t + \\sigma^2dt \\right) \\\\\n",
    "    &= \\left( \\frac{-A}{TS} - r\\xi + \\sigma^2\\xi \\right)dt - \\sigma\\xi dW_t\n",
    "\\end{align}\n",
    "$$"
   ]
  },
  {
   "cell_type": "markdown",
   "metadata": {},
   "source": [
    "As\n",
    "$$\n",
    "  \\begin{cases}\n",
    "    dS = rSdt + \\sigma S d W_t       \\\\\n",
    "    dS \\text { got stochastic term: } \\sigma S d W_t \\Rightarrow d \\langle S \\rangle = \\sigma^2 S^2 dt \\\\\n",
    "    \\frac{\\partial\\xi}{\\partial t}dt = \\frac{-A}{TS}dt \\\\\n",
    "    \\frac{\\partial\\xi}{\\partial S}dS = (K - \\frac{tA}{T})S^{-2} = \\frac{-\\xi}{S}dS \\\\\n",
    "    \\frac{\\partial^2\\xi}{\\partial S^2}d\\langle S\\rangle = 2(K - \\frac{tA}{T})S^{-3} = \\frac{2\\xi}{S^2}d\\langle S\\rangle\n",
    "  \\end{cases}\n",
    "$$"
   ]
  },
  {
   "cell_type": "markdown",
   "metadata": {},
   "source": [
    "Then $$d\\langle \\xi \\rangle = \\sigma\\xi dW_t$$"
   ]
  },
  {
   "cell_type": "markdown",
   "metadata": {},
   "source": [
    "On the other hand, we apply **Itô Lemma** on $f(t,\\xi)$:\n",
    "$$\n",
    "\\begin{alignat}{2}\n",
    "  &&df \n",
    "  &= \\frac{\\partial f}{\\partial t}dt + \\frac{\\partial f}{\\partial\\xi}d\\xi + \\frac{1}{2} \\frac{\\partial^2f}{\\partial \\xi^2}d\\langle \\xi\\rangle \\\\\n",
    "  &\\Leftrightarrow\n",
    "  &df \n",
    "  &= \\frac{\\partial f}{\\partial t}dt + \\frac{\\partial f}{\\partial\\xi}\\left( \\left( \\frac{-A}{TS} - r\\xi + \\sigma^2\\xi \\right)dt - \\sigma\\xi dW_t \\right) + \\frac{1}{2} \\frac{\\partial^2f}{\\partial \\xi^2} \\left( \\sigma^2\\xi^2 dt \\right) \\\\\n",
    "  &\\Leftrightarrow\n",
    "  &df \n",
    "  &= \\left( \\frac{\\partial f}{\\partial t} + \\frac{\\partial f}{\\partial\\xi}\\left( \\frac{-A}{TS} - r\\xi + \\sigma^2\\xi \\right) + \\frac{1}{2} \\frac{\\partial^2f}{\\partial \\xi^2} \\sigma^2\\xi^2 \\right)dt - \\frac{\\partial f}{\\partial\\xi}\\sigma\\xi dW_t \n",
    "\\end{alignat}\n",
    "$$"
   ]
  },
  {
   "cell_type": "markdown",
   "metadata": {},
   "source": [
    "We also got:\n",
    "$$\n",
    "  \\begin{cases}\n",
    "    d\\langle S,f \\rangle = (\\sigma S)\\left(- \\frac{\\partial f}{\\partial\\xi}\\sigma\\xi \\right)dW_t = - \\frac{\\partial f}{\\partial\\xi}S\\sigma^2\\xi dt      \\\\\n",
    "    df = \\left( \\frac{\\partial f}{\\partial t} + \\frac{\\partial f}{\\partial\\xi}\\left( \\frac{-A}{TS} - r\\xi + \\sigma^2\\xi \\right) + \\frac{1}{2} \\frac{\\partial^2f}{\\partial \\xi^2} \\sigma^2\\xi^2 \\right)dt - \\frac{\\partial f}{\\partial\\xi}\\sigma\\xi dW_t \\\\\n",
    "    dS = rSdt + \\sigma S d W_t \\\\\n",
    "  \\end{cases}\n",
    "$$"
   ]
  },
  {
   "cell_type": "markdown",
   "metadata": {},
   "source": [
    "Let apply **Itô Lemma** again on $V(t,S,A)$:"
   ]
  },
  {
   "cell_type": "markdown",
   "metadata": {},
   "source": [
    "$$\n",
    "\\begin{alignat}{2}\n",
    "  &&V(t,S,A) \n",
    "  &= Sf(t,\\xi) \\\\\n",
    "  &\\Leftrightarrow\n",
    "  &dV \n",
    "  &= fdS + Sdf + d \\langle S,f \\rangle \\\\\n",
    "  &\\Leftrightarrow\n",
    "  &dV \n",
    "  &= f.S\\left(   rdt + \\sigma dW_t       \\right) + S.\\left(   \\left( \\frac{\\partial f}{\\partial t} + \\frac{\\partial f}{\\partial\\xi}\\left( \\frac{-A}{TS} - r\\xi + \\sigma^2\\xi \\right) + \\frac{1}{2} \\frac{\\partial^2f}{\\partial \\xi^2} \\sigma^2\\xi^2 \\right)dt - \\frac{\\partial f}{\\partial\\xi}\\sigma\\xi dW_t    \\right) - \\frac{\\partial f}{\\partial\\xi}S\\sigma^2\\xi dt \\\\\n",
    "  &\\Leftrightarrow\n",
    "  &dV \n",
    "  &= S. \\left( fr + \\frac{\\partial f}{\\partial t} + \\frac{\\partial f}{\\partial\\xi}\\left( \\frac{-A}{TS} - r\\xi \\right) + \\frac{1}{2} \\frac{\\partial^2f}{\\partial \\xi^2} \\sigma^2\\xi^2 \\right)dt + \\left( fS\\sigma  - \\frac{\\partial f}{\\partial\\xi}\\sigma\\xi \\right) dW_t \\\\\n",
    "\\end{alignat}\n",
    "$$"
   ]
  },
  {
   "cell_type": "markdown",
   "metadata": {},
   "source": [
    "According to the \"No arbitrage strategy\" rule, we have \n",
    "$$\n",
    "\\begin{alignat}{2}\n",
    "  &&dV\n",
    "  &= rVdt \\\\\n",
    "  &\\Leftrightarrow\n",
    "  &dV - rSfdt\n",
    "  &= 0 \\\\\n",
    "  &\\Leftrightarrow\n",
    "  &S. \\left( fr + \\frac{\\partial f}{\\partial t} + \\frac{\\partial f}{\\partial\\xi}\\left( \\frac{-A}{TS} - r\\xi \\right) + \\frac{1}{2} \\frac{\\partial^2f}{\\partial \\xi^2} \\sigma^2\\xi^2 \\right)dt + \\left( fS\\sigma  - \\frac{\\partial f}{\\partial\\xi}\\sigma\\xi \\right) dW_t - rSfdt \n",
    "  &=0 \\\\\n",
    "  &\\Leftrightarrow\n",
    "  &S. \\left(\\frac{\\partial f}{\\partial t} + \\frac{\\partial f}{\\partial\\xi}\\left( \\frac{-A}{TS} - r\\xi \\right) + \\frac{1}{2} \\frac{\\partial^2f}{\\partial \\xi^2} \\sigma^2\\xi^2 \\right)dt + \\left( fS\\sigma  - \\frac{\\partial f}{\\partial\\xi}\\sigma\\xi \\right) dW_t \n",
    "  &=0\n",
    "\\end{alignat}\n",
    "$$"
   ]
  },
  {
   "cell_type": "markdown",
   "metadata": {},
   "source": [
    "Then\n",
    "$$ \\frac{\\partial f}{\\partial t} + \\frac{\\sigma^2 \\xi^2}{2} \\frac{\\partial^2 f}{\\partial \\xi^2} - \\left( \\frac{1}{T} + r \\xi \\right) \\frac{\\partial f}{\\partial \\xi} = 0 \\text{ (proved!)}$$"
   ]
  },
  {
   "cell_type": "markdown",
   "metadata": {},
   "source": [
    "******"
   ]
  },
  {
   "cell_type": "markdown",
   "metadata": {},
   "source": [
    "#### Question 3.\n",
    "In order to solve the above PDE, we need to approximate $\\frac{\\partial}{\\partial t}, \\frac{\\partial}{\\partial\\xi}$ and $\\frac{\\partial^2}{\\partial \\xi^2}$ , suggest some ﬁnite difference schemes to approximate those operators. We use the usual notation $\\delta t$ and $\\delta \\xi$ for t and $\\xi$, respectively."
   ]
  },
  {
   "cell_type": "markdown",
   "metadata": {},
   "source": [
    "**Answer:**"
   ]
  },
  {
   "cell_type": "markdown",
   "metadata": {},
   "source": []
  },
  {
   "cell_type": "code",
   "execution_count": null,
   "metadata": {},
   "outputs": [],
   "source": []
  },
  {
   "cell_type": "markdown",
   "metadata": {},
   "source": [
    "******"
   ]
  },
  {
   "cell_type": "markdown",
   "metadata": {},
   "source": [
    "#### Question 4.\n",
    "Discretize the PDE with the Crank-Nicolson scheme and solve for $f(t,\\xi)$ on $[0, T] × [−6,0]$. Compare the option values given by the PDE approach and the Monte-Carlo estimation when $\\sigma \\in \\{0.01, 0.05, 0.1, 0.2, 0.3 \\}$ . For all numerical applications we take $N \\in \\{200, 500, 1000\\}$ (discretization in t space) and $M \\in \\{100, 300, 600\\}$ (discretization in $\\xi$ space). What are your remarks regarding the precision of the PDE values?"
   ]
  },
  {
   "cell_type": "markdown",
   "metadata": {},
   "source": [
    "**Answer:**"
   ]
  },
  {
   "cell_type": "code",
   "execution_count": null,
   "metadata": {},
   "outputs": [],
   "source": []
  }
 ],
 "metadata": {
  "kernelspec": {
   "display_name": "Python 3",
   "language": "python",
   "name": "python3"
  },
  "language_info": {
   "codemirror_mode": {
    "name": "ipython",
    "version": 3
   },
   "file_extension": ".py",
   "mimetype": "text/x-python",
   "name": "python",
   "nbconvert_exporter": "python",
   "pygments_lexer": "ipython3",
   "version": "3.6.5"
  }
 },
 "nbformat": 4,
 "nbformat_minor": 2
}
