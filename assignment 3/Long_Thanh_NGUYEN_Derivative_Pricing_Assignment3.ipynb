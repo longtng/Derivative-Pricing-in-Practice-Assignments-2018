{
 "cells": [
  {
   "cell_type": "markdown",
   "metadata": {},
   "source": [
    "## Assignment 3\n",
    "<p>May 2018 </p>\n",
    "<p>Long Thanh NGUYEN </p>\n",
    "<p>long.nguyen2017@qcf.jvn.edu.vn </p>\n"
   ]
  },
  {
   "cell_type": "code",
   "execution_count": 1,
   "metadata": {},
   "outputs": [
    {
     "name": "stdout",
     "output_type": "stream",
     "text": [
      "Requirement already satisfied: sobol_seq in /Users/longng/anaconda3/lib/python3.6/site-packages (0.1.2)\r\n"
     ]
    }
   ],
   "source": [
    "!pip install sobol_seq"
   ]
  },
  {
   "cell_type": "markdown",
   "metadata": {},
   "source": [
    "# Question \n",
    "We consider the problem of pricing an option with payoff $ϕ(S_T)$ where the underlying asset S follows the dynamics (under $\\mathbb{Q}$):\n",
    "\\begin{equation}\n",
    "\\frac{dS_t}{S_t} = rdt + \\sigma dW_t \n",
    "\\end{equation}\n",
    "\n",
    "<p>where the risk-free rate and the volatility coefficient are all deterministic. </p>\n",
    "For all numerical applications in this assignment we take\n",
    "<div style=\"text-align: center\"> x = 100, r = 0.2, σ = 0.1, T = 1.</div>"
   ]
  },
  {
   "cell_type": "markdown",
   "metadata": {},
   "source": [
    "### Question 1\n",
    "Justify with a short argument why the price of such an option when $S_t = x$ is given by\n",
    "\\begin{equation}\n",
    "u(t,x) = e^{−r(T−t)}\\mathbb{E}^\\mathbb{Q}\\big[ϕ(S_T)\\mid S_t=x\\big].\n",
    "\\end{equation}"
   ]
  },
  {
   "cell_type": "markdown",
   "metadata": {},
   "source": [
    "**Answer:**"
   ]
  },
  {
   "cell_type": "markdown",
   "metadata": {},
   "source": [
    "We got following parameters:\n",
    "* $e^{−r(T−t)}$: is the discounted factor for the period time t to T\n",
    "* $\\mathbb{E}^\\mathbb{Q}\\big[ϕ(S_T)\\mid S_t=x\\big]$: is the expectation as it is the price option function under the dynamics $\\mathbb{Q}$. The expectation of payoff function $ϕ(S_T)$ with condition at $S_t=x$"
   ]
  },
  {
   "cell_type": "markdown",
   "metadata": {},
   "source": [
    "### Question 2\n",
    "Suppose we are able to simulate n values of $S_T,\\left\\{S^{(1)}_T,...,S^{(n)}_T\\right\\}$, cite the theorem allowing us to approximate the price of this option by\n",
    "\n",
    "\\begin{equation}\n",
    "u(t,x) \\approx u^{MC}(t,x) := e^{−r(T−t)}\\frac{\\sum_{i=1}^{n}\\phi(S^{(i)}_T)}{n}\n",
    "\\end{equation}\n",
    "\n",
    "Give an estimation of the expected value and the standard-deviation of $u^{MC}(t,x)$ from those of $ϕ(S_T)$. Provide the 95%-confﬁdence interval of the estimated price."
   ]
  },
  {
   "cell_type": "markdown",
   "metadata": {},
   "source": [
    "**Answer:**"
   ]
  },
  {
   "cell_type": "markdown",
   "metadata": {},
   "source": [
    "### Question 3\n",
    "We consider the simulation of $S_T$ given $S_t=x$, show (with help of Ito’s lemma) that\n",
    "\\begin{equation}\n",
    "S_T = S_t e^{(r−σ^2/2)(T−t)+σ(W_T−W_t)}.\n",
    "\\end{equation}\n",
    "Using the property of the standard Brownian motion, describe how to simulate $S_T$ from a random normal distribution."
   ]
  },
  {
   "cell_type": "markdown",
   "metadata": {},
   "source": [
    "**Answer:**"
   ]
  },
  {
   "cell_type": "markdown",
   "metadata": {},
   "source": [
    "We got Ito process as follow:\n",
    "\\begin{equation}\n",
    "dx=a(x,t)dt + b(x,t)dW_t\n",
    "\\end{equation}\n",
    "Consequence we got $G=G(x,t)$:\n",
    "\\begin{equation}\n",
    "dG = \\Big(\\frac{\\partial G}{\\partial x}a + \\frac{\\partial G}{\\partial t} + \\frac{1}{2}\\frac{\\partial^2 G}{\\partial x^2}b^2\\Big)dt + \\frac{\\partial G}{\\partial x}bdW_t\n",
    "\\end{equation}\n",
    "Let $x = S_t, a = rx = rS_t, b = \\sigma x = \\sigma S_t, G = ln(x) = ln(S_t)$\n",
    "\n",
    "\\begin{equation}\n",
    "\\implies\n",
    "\\begin{cases}\n",
    "    \\frac{\\partial G}{\\partial x} = \\frac{\\partial ln(S_t)}{\\partial S_t} = \\frac{1}{S_t} \\Rightarrow \\frac{\\partial^2 G}{\\partial x^2} = -\\frac{1}{S^{2}_{t}} \\\\\n",
    "    \\frac{\\partial G}{\\partial t} = \\frac{\\partial ln(S_t)}{\\partial t} = 0 \\\\\n",
    "\\end{cases}\n",
    "\\end{equation}\n",
    "Then \n",
    "\\begin{equation}\n",
    "dG = dln(S_t) = \\Big(\\frac{1}{S_t}rS_t + 0 - \\frac{1}{2}\\frac{1}{S^{2}_{t}}\\sigma^2S^{2}_{t} \\Big)dt + \\frac{1}{S_t}\\sigma S_tdW_t \n",
    "\\end{equation}\n",
    "\n",
    "\\begin{equation}\n",
    "\\Leftrightarrow dln(S_t) = (r - \\frac{\\sigma^2}{2})dt + \\sigma dW_t\n",
    "\\end{equation}\n",
    "\n",
    "\\begin{equation}\n",
    "\\Rightarrow \\int_t^T {dln(S_k)} = \\int_t^T{(r - \\frac{\\sigma^2}{2})dk} + \\int_t^T{\\sigma dW_k} \\\\\n",
    "\\Leftrightarrow \\int_t^T {dln(S_k)} = (r - \\frac{\\sigma^2}{2})\\int_t^T{dk} + \\sigma \\int_t^T{dW_k} \\\\\n",
    "\\Rightarrow ln\\frac{S_T}{S_t} = (r - \\frac{\\sigma^2}{2})(T - t) + \\sigma (W_T - W_t)\n",
    "\\end{equation}\n",
    "\\begin{equation}\n",
    "\\Leftrightarrow S_T = S_t e^{(r−σ^2/2)(T−t)+σ(W_T−W_t)}.\n",
    "\\end{equation}"
   ]
  },
  {
   "cell_type": "markdown",
   "metadata": {},
   "source": [
    "Simulate $S_T$ as a random normal distribution:\n",
    "* We got all the input: $r = 0.2, \\sigma = 0.1, T = 1, S_t = x = 100, t$\n",
    "* Generate $(W_T-W_t) \\sim \\mathscr{N}(0,T-t)$\n",
    "* Run $S_T = S_t e^{(r−σ^2/2)(T−t)+σ(W_T−W_t)}$"
   ]
  },
  {
   "cell_type": "markdown",
   "metadata": {},
   "source": [
    "### Question 4\n",
    "In the previous question we directly simulate the normal distribution, show that if we only have the uniform $[0,1]$ distribution, we would have\n",
    "\\begin{equation}\n",
    "Z = \\mathcal{N}^{−1}(U) \\sim N(0,1), U \\sim \\mathscr{U}(0, 1),\n",
    "\\end{equation}\n",
    "where $\\mathcal{N}^{−1}$ is the inverse of the standard normal distribution C.D.F."
   ]
  },
  {
   "cell_type": "markdown",
   "metadata": {},
   "source": [
    "**Answer:**"
   ]
  },
  {
   "cell_type": "markdown",
   "metadata": {},
   "source": [
    "We got\n",
    "\\begin{equation}\n",
    "\\begin{cases}\n",
    "    U \\sim \\mathscr{U}(0, 1) \\\\\n",
    "    Z = \\mathcal{N}^{−1}(U) \\sim N(0,1) \\text{ (standard normal C.D.F)}\n",
    "\\end{cases} \\\\\n",
    "\\end{equation}\n",
    "\n",
    "\\begin{equation}\n",
    "\\Rightarrow F_z(z) = P(Z\\leq z) = P\\Big(\\mathcal{N}^{−1}(U) \\leq z\\Big) = P\\Big(U \\leq \\mathcal{N}(z)\\Big) = \\mathcal{N}(z)\n",
    "\\end{equation}\n",
    "So we can simulate the normal distribution from Uniform Distribution"
   ]
  },
  {
   "cell_type": "code",
   "execution_count": 2,
   "metadata": {},
   "outputs": [],
   "source": [
    "import math\n",
    "import numpy as np\n",
    "import pandas as pd\n",
    "import matplotlib.pyplot as plt\n",
    "import seaborn as sns\n",
    "from scipy import stats\n",
    "from scipy.stats import norm\n",
    "import sobol_seq as sb\n",
    "import pylab as pl"
   ]
  },
  {
   "cell_type": "markdown",
   "metadata": {},
   "source": [
    "### Question 5\n",
    "Instead of simulate the true uniform variable, one is able also to use a low discrepancy sequence, for instance, the Sobol sequence - [see this link]( https://github.com/naught101/sobol_seq). Apply the previous method to generate n values (n ∈ {1000,10000,100000}) for the normal distribution, verify indeed that when n becomes large the distribution of generated values converge to the standard normal distribution."
   ]
  },
  {
   "cell_type": "markdown",
   "metadata": {},
   "source": [
    "**Answer:**"
   ]
  },
  {
   "cell_type": "code",
   "execution_count": 3,
   "metadata": {},
   "outputs": [],
   "source": [
    "#generate Uniform distribution by Sobol\n",
    "U=sb.i4_sobol_generate(2, 1000)\n",
    "UU=sb.i4_sobol_generate(2, 10000)\n",
    "UUU=sb.i4_sobol_generate(2, 100000)"
   ]
  },
  {
   "cell_type": "code",
   "execution_count": 4,
   "metadata": {},
   "outputs": [],
   "source": [
    "#Simulate Normal Distribution from sobol list\n",
    "N=np.sqrt(-2*np.log(U[:,0]))* np.cos(2*np.pi*U[:,1])\n",
    "NN=np.sqrt(-2*np.log(UU[:,0]))* np.cos(2*np.pi*UU[:,1])\n",
    "NNN=np.sqrt(-2*np.log(UUU[:,0]))* np.cos(2*np.pi*UUU[:,1])"
   ]
  },
  {
   "cell_type": "code",
   "execution_count": 5,
   "metadata": {},
   "outputs": [
    {
     "data": {
      "image/png": "[encoded data removed]",
      "text/plain": [
       "<matplotlib.figure.Figure at 0x1a13b72e10>"
      ]
     },
     "metadata": {},
     "output_type": "display_data"
    }
   ],
   "source": [
    "#plot the new Normal Distribution\n",
    "plt.figure(figsize = (12,5))\n",
    "plt.hist(N,bins=100, normed=True, color='darkblue')\n",
    "mu, std = stats.norm.fit(N)\n",
    "xmin, xmax = plt.xlim()\n",
    "x = np.linspace(xmin, xmax)\n",
    "p = norm.pdf(x, mu, std)\n",
    "plt.plot(x, p, 'red', linewidth=2)\n",
    "plt.show()"
   ]
  },
  {
   "cell_type": "code",
   "execution_count": 6,
   "metadata": {},
   "outputs": [
    {
     "data": {
      "image/png": "[encoded data removed]",
      "text/plain": [
       "<matplotlib.figure.Figure at 0x1a1cebadd8>"
      ]
     },
     "metadata": {},
     "output_type": "display_data"
    }
   ],
   "source": [
    "#plot the new Normal Distribution\n",
    "plt.figure(figsize = (12,5))\n",
    "plt.hist(NN,bins=100, normed=True, color='darkblue')\n",
    "mu, std = stats.norm.fit(N)\n",
    "xmin, xmax = plt.xlim()\n",
    "x = np.linspace(xmin, xmax)\n",
    "p = norm.pdf(x, mu, std)\n",
    "plt.plot(x, p, 'red', linewidth=2)\n",
    "plt.show()"
   ]
  },
  {
   "cell_type": "code",
   "execution_count": 7,
   "metadata": {},
   "outputs": [
    {
     "data": {
      "image/png": "[encoded data removed]",
      "text/plain": [
       "<matplotlib.figure.Figure at 0x1a1d0ea400>"
      ]
     },
     "metadata": {},
     "output_type": "display_data"
    }
   ],
   "source": [
    "#plot the new Normal Distribution\n",
    "plt.figure(figsize = (12,5))\n",
    "plt.hist(NNN,bins=100, normed=True, color='darkblue')\n",
    "mu, std = stats.norm.fit(N)\n",
    "xmin, xmax = plt.xlim()\n",
    "x = np.linspace(xmin, xmax)\n",
    "p = norm.pdf(x, mu, std)\n",
    "plt.plot(x, p, 'red', linewidth=2)\n",
    "plt.show()"
   ]
  },
  {
   "cell_type": "markdown",
   "metadata": {},
   "source": [
    "**Conclusion**\n",
    "When n becomes larger and larger, the distribution of generated values converge to the standard normal distribution"
   ]
  },
  {
   "cell_type": "markdown",
   "metadata": {},
   "source": [
    "### Question 6\n",
    "For the purpose of hedging, we also need (among many greeks) the delta, i.e., ∆ = $\\frac{∂u}{∂x}$. Provide two schemes to approximate ∆(t,x) from u(t,x), u(t,x±ε)"
   ]
  },
  {
   "cell_type": "markdown",
   "metadata": {},
   "source": [
    "**Answer:**"
   ]
  },
  {
   "cell_type": "markdown",
   "metadata": {},
   "source": [
    "We got Taylor Expansion:\n",
    "\\begin{equation}\n",
    "f(a) + \\frac{f'(a)}{1!}(x-a) + \\frac{f''(a)}{2!}(x-a)^2 + \\frac{f'''(a)}{3!}(x-a)^3 + ...\n",
    "\\end{equation}\n",
    "Let the payoff function as u(t,x) with fixed t, then\n",
    "\\begin{equation}\n",
    "\\Delta u(t,x) = \\frac{∂u}{∂x} \n",
    "\\end{equation}\n",
    "Apply $u(t,x+\\varepsilon)$ to Taylor Expansion:\n",
    "\\begin{equation}\n",
    "u(t,x+\\varepsilon) = u(t,x) + \\frac{\\partial u(t,x)}{1!}(x+\\varepsilon-x) + \\frac{\\partial^2 u(t,x)}{2!}(x+\\varepsilon-x)^2 + ... = u(t,x) + \\frac{\\partial u(t,x)}{1!}\\varepsilon + \\frac{\\partial^2 u(t,x)}{2!}\\varepsilon^2 + ... \\\\\n",
    "\\Leftrightarrow u(t,x+\\varepsilon) \\approx u(t,x) + \\frac{\\partial u(t,x)}{1!} \\text{ (as we approximate the rest of the expansion, } \\varepsilon \\to \\infty \\text {)}\n",
    "\\end{equation}\n",
    "Then\n",
    "\\begin{equation}\n",
    "\\Delta u(t,x) = u(t,x) - u(t,x+\\varepsilon) = u(t,x) - u(t,x) - \\frac{\\partial u(t,x)}{1!} = -\\frac{∂u}{∂x} = \\frac{u(t,x+\\varepsilon)-u(t,x)}{(x+\\varepsilon - x)} = \\frac{u(t,x+\\varepsilon)-u(t,x)}{\\varepsilon}\n",
    "\\end{equation}\n",
    "we got: \n",
    "\\begin{equation}\n",
    "\\Delta u(t,x) \\approx \\frac{u(t,x+\\varepsilon)-u(t,x)}{\\varepsilon}\n",
    "\\end{equation}"
   ]
  },
  {
   "cell_type": "markdown",
   "metadata": {},
   "source": [
    "Similarly, we apply $u(t,x-\\varepsilon)$ to Taylor Expansion:\n",
    "\\begin{equation}\n",
    "u(t,x-\\varepsilon) \\approx u(t,x) + \\frac{\\partial u(t,x)}{1!}(x- \\varepsilon -x) \\approx u(t,x) - \\frac{\\partial u(t,x)}{1!} (\\varepsilon \\to \\infty )\n",
    "\\end{equation}\n",
    "Then, the $u(t,x) - u(t,x-\\varepsilon)$\n",
    "\\begin{equation}\n",
    "\\Delta u(t,x) = u(t,x) - u(t,x-\\varepsilon) = u(t,x) - u(t,x) + \\frac{\\partial u(t,x)}{1!} = \\frac{∂u}{∂x} = \\frac{u(t,x)-u(t,x-\\varepsilon)}{(x-\\varepsilon - x)} = \\frac{u(t,x)-u(t,x-\\varepsilon)}{\\varepsilon}\n",
    "\\end{equation}"
   ]
  },
  {
   "cell_type": "markdown",
   "metadata": {},
   "source": [
    "In short, we got scheme 1 as: \n",
    "\\begin{equation}\n",
    "\\Delta u(t,x) \\approx\n",
    "\\begin{cases}\n",
    "    \\frac{u(t,x+\\varepsilon)-u(t,x)}{\\varepsilon} \\\\\n",
    "    \\frac{u(t,x)-u(t,x-\\varepsilon)}{\\varepsilon}\n",
    "\\end{cases} \\\\\n",
    "\\end{equation}"
   ]
  },
  {
   "cell_type": "markdown",
   "metadata": {},
   "source": [
    "Similarly, the scheme 2 would be:\n",
    "\\begin{equation}\n",
    "\\Delta u(t,x) \\approx \\frac{u(t,x+\\varepsilon)-u(t,x-\\varepsilon)}{(x+\\varepsilon - x+\\varepsilon)} = \\frac{u(t,x+\\varepsilon)-u(t,x-\\varepsilon)}{2\\varepsilon}\n",
    "\\end{equation}"
   ]
  },
  {
   "cell_type": "markdown",
   "metadata": {},
   "source": [
    "### Question 7\n",
    "When we approximate $u(t,x \\pm \\varepsilon)$, we can either simulate new random values or reuse the same random values as when we approximate $u(t,x)$. Verify numerically indeed that it’s better to reuse the same random sequences (in comparing for example the rate of convergence to the true value) in the case of an European call option $ϕ(S_T)$ = $max(S_T − K,0)$, For all numerical applications we take $t = 0$, $K = 100$ and $\\varepsilon = 0.001$, we also make use of the Sobol sequences."
   ]
  },
  {
   "cell_type": "markdown",
   "metadata": {},
   "source": [
    "**Answer:**"
   ]
  },
  {
   "cell_type": "code",
   "execution_count": 8,
   "metadata": {},
   "outputs": [],
   "source": [
    "# Input\n",
    "S0 = 100 # Stock Price S0\n",
    "K0 = 100 # Strike Price K0\n",
    "r0 = 0.2 # Risk free Rate \n",
    "sigma0 = 0.1 # Volatility \n",
    "T0 = 1 # Time to Maturity \n",
    "epsilon0 = 0.001 # Epsilon \n",
    "N = 10000"
   ]
  },
  {
   "cell_type": "code",
   "execution_count": 9,
   "metadata": {},
   "outputs": [],
   "source": [
    "#generate the Uniform data sample by sobol and then transform into Normal Distribution \n",
    "U1=sb.i4_sobol_generate(2, N)\n",
    "U2=sb.i4_sobol_generate(2, N)\n",
    "ND1=np.sqrt(-2*np.log(U1[:,0]))* np.cos(2*np.pi*U1[:,1])\n",
    "#ND2=np.sqrt(-2*np.log(U2[:,0]))* np.cos(2*np.pi*U2[:,1])\n",
    "ND2=stats.norm.ppf(U2[:,1], loc = 0, scale = 1)"
   ]
  },
  {
   "cell_type": "code",
   "execution_count": 10,
   "metadata": {},
   "outputs": [],
   "source": [
    "#Option Price Calculation\n",
    "StockPrice = lambda t: S0 * np.exp((r0 - 0.5 * (sigma0**2))*T0 + sigma0*np.sqrt(T0)*t)\n",
    "StockPricep = lambda t: (S0+epsilon0) * np.exp((r0 - 0.5 * (sigma0**2))*T0 + sigma0*np.sqrt(T0)*t)\n",
    "StockPricem = lambda t: (S0-epsilon0) * np.exp((r0 - 0.5 * (sigma0**2))*T0 + sigma0*np.sqrt(T0)*t)\n",
    "\n",
    "PayOff = lambda t: (abs(t-K0)+t-K0)/2\n",
    "OptionPrice = lambda t: np.exp(-r0*T0)*(t)\n",
    "\n",
    "s1utx = OptionPrice(PayOff(StockPrice(ND1)))\n",
    "s1utxpe = OptionPrice(PayOff(StockPricep(ND1)))\n",
    "s1utxme = OptionPrice(PayOff(StockPricem(ND1)))\n",
    "\n",
    "s2utxpe = OptionPrice(PayOff(StockPricep(ND2)))\n",
    "s2utxme = OptionPrice(PayOff(StockPricem(ND2)))"
   ]
  },
  {
   "cell_type": "code",
   "execution_count": 11,
   "metadata": {},
   "outputs": [],
   "source": [
    "#Delta Caculation for reuse and create new\n",
    "#reused\n",
    "Dtreuseds1a = (s1utxpe-s1utx)/(epsilon0) # Scheme 1a \n",
    "Dtreuseds1a = (s1utx-s1utxme)/(epsilon0) # Scheme 1b\n",
    "Dtreuseds2 = (s1utxpe-s1utxme)/(2*epsilon0) # Scheme 2\n",
    "\n",
    "#new\n",
    "Dtnews1a = (s2utxpe-s1utx)/(epsilon0) # Scheme 1a \n",
    "Dtnews1a = (s1utx-s2utxme)/(epsilon0) # Scheme 1b\n",
    "Dtnews2 = (s2utxpe-s2utxme)/(2*epsilon0) # Scheme 2\n",
    "\n",
    "BSMP = (np.log(S0/K0) + (r0 + 0.5*(sigma0**2))*T0)/(sigma0*np.sqrt(T0))\n",
    "TrueDelta = stats.norm.cdf(BSMP)"
   ]
  },
  {
   "cell_type": "code",
   "execution_count": 12,
   "metadata": {},
   "outputs": [
    {
     "data": {
      "image/png": "[encoded data removed]",
      "text/plain": [
       "<matplotlib.figure.Figure at 0x1a13b72a90>"
      ]
     },
     "metadata": {},
     "output_type": "display_data"
    }
   ],
   "source": [
    "#Reused Sample\n",
    "NX = np.linspace(1, 10000,10000,dtype=np.int)\n",
    "plt.figure(figsize=(12,5))\n",
    "\n",
    "plt.title('Reused Sample')\n",
    "plt.xlabel('Number of observations')\n",
    "plt.ylabel('Delta')\n",
    "\n",
    "plt.plot(np.cumsum(Dtreuseds1a)/np.arange(1,10001), color = 'r')\n",
    "plt.axhline(TrueDelta, color='blue',linewidth=1)\n",
    "plt.show()"
   ]
  },
  {
   "cell_type": "code",
   "execution_count": 13,
   "metadata": {},
   "outputs": [
    {
     "data": {
      "image/png": "[encoded data removed]",
      "text/plain": [
       "<matplotlib.figure.Figure at 0x1a1d5dde10>"
      ]
     },
     "metadata": {},
     "output_type": "display_data"
    }
   ],
   "source": [
    "#New Sample\n",
    "NX = np.linspace(1, 10000,10000,dtype=np.int)\n",
    "plt.figure(figsize=(12,5));\n",
    "\n",
    "plt.title('New Sample')\n",
    "plt.xlabel('Number of observations')\n",
    "plt.ylabel('Delta')\n",
    "\n",
    "plt.plot(np.cumsum(Dtnews2)/np.arange(1,10001), color = 'b')\n",
    "plt.axhline(TrueDelta, color='red',linewidth=1)\n",
    "plt.show()"
   ]
  },
  {
   "cell_type": "markdown",
   "metadata": {},
   "source": [
    "### Question 8\n",
    "The FDM scheme to calculate ∆ is useful only when the payoff function is smooth (as in European call/put case). When it’s not the case, for example a [binary option]( http://www.wilmottwiki.com/wiki/index.php?title=Binary_option), then FDM method converges very slow to the exact value. Verify that in the case of a binary call option $ϕ(S_T) = \\mathbb{1}_{S_T≥K}$ the estimation error is very large even with $n = 10^6$ . The estimation error is calculated as\n",
    "\n",
    "\\begin{equation}\n",
    "\\text{err  in  percentage} = 100 × \\Big| \\frac{MC value - exact value}{exact value} \\Big|\n",
    "\\end{equation}\n"
   ]
  },
  {
   "cell_type": "code",
   "execution_count": 25,
   "metadata": {},
   "outputs": [],
   "source": [
    "# Input\n",
    "S0 = 100 # Stock Price S0\n",
    "K0 = 100 # Strike Price K0\n",
    "r0 = 0.2 # Risk free Rate \n",
    "sigma0 = 0.1 # Volatility \n",
    "T0 = 1 # Time to Maturity \n",
    "epsilon0 = 0.001 # Epsilon \n",
    "Nn = 10**6\n",
    "\n",
    "#generate data sample\n",
    "BiND1 = np.random.normal(0,1,Nn)\n",
    "BiND2 = np.random.normal(0,1,Nn)\n",
    "\n",
    "BiStockPrice = lambda t: (S0) * np.exp((r0 - 0.5 * (sigma0**2))*T0 + sigma0*np.sqrt(T0)*t)\n",
    "BiStockPricep = lambda t: (S0+epsilon0) * np.exp((r0 - 0.5 * (sigma0**2))*T0 + sigma0*np.sqrt(T0)*t)\n",
    "BiStockPricem = lambda t: (S0-epsilon0) * np.exp((r0 - 0.5 * (sigma0**2))*T0 + sigma0*np.sqrt(T0)*t)\n",
    "\n",
    "BiPayOff = lambda t: np.where(t>K0,1,0) \n",
    "BiOptionPrice = lambda t: np.exp(-r0*T0)*np.mean(t)\n",
    "\n",
    "Bis1utx = BiOptionPrice(BiPayOff(BiStockPrice(BiND1)))\n",
    "Bis2utxpe = BiOptionPrice(BiPayOff(BiStockPricep(BiND1)))\n",
    "Bis2utxme = BiOptionPrice(BiPayOff(BiStockPricem(BiND2)))\n",
    "\n",
    "BiDtnews2 = (Bis2utxpe-Bis2utxme)/(2*epsilon0) #reused\n",
    "\n",
    "dp = (np.log(S0/K0) + (r0 + 0.5*(sigma0**2))*T0)/(sigma0*np.sqrt(T0))\n",
    "BiTrueDelta = stats.norm.cdf(dp)"
   ]
  },
  {
   "cell_type": "code",
   "execution_count": 26,
   "metadata": {},
   "outputs": [
    {
     "name": "stdout",
     "output_type": "stream",
     "text": [
      "Error in percentage 96.99185832568254 %\n"
     ]
    }
   ],
   "source": [
    "# Error Calculation\n",
    "errip = 100*abs(((BiDtnews2) - BiTrueDelta ) / BiTrueDelta)\n",
    "print('Error in percentage',errip,'%')"
   ]
  },
  {
   "cell_type": "markdown",
   "metadata": {},
   "source": [
    "### Question 9\n",
    "In such cases, we are able to use an advanced method, the [Malliavin Calculus](https://www.math.nyu.edu/~frizpete/finance/fournie1.pdf), to calculate the delta (as well as the other greeks). We admit the following result\n",
    "\n",
    "\\begin{equation}\n",
    "∆(0,x) = e^{rT}\\mathbb{E}^{\\mathbb{Q}}[π_∆ · ϕ(S_T) \\mid S_0 = x] ,  π_∆ = \\frac{W_T}{xσT}\n",
    "\\end{equation}\n",
    "Compare the estimation error between this case and the previous one."
   ]
  },
  {
   "cell_type": "code",
   "execution_count": null,
   "metadata": {},
   "outputs": [],
   "source": []
  }
 ],
 "metadata": {
  "kernelspec": {
   "display_name": "Python 3",
   "language": "python",
   "name": "python3"
  },
  "language_info": {
   "codemirror_mode": {
    "name": "ipython",
    "version": 3
   },
   "file_extension": ".py",
   "mimetype": "text/x-python",
   "name": "python",
   "nbconvert_exporter": "python",
   "pygments_lexer": "ipython3",
   "version": "3.6.6"
  }
 },
 "nbformat": 4,
 "nbformat_minor": 2
}
