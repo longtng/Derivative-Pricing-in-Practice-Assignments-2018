{
 "cells": [
  {
   "cell_type": "markdown",
   "metadata": {},
   "source": [
    "## Assignment 5\n",
    "<p>Jul 2018 </p>\n",
    "<p>Long Thanh NGUYEN </p>\n",
    "<p>long.nguyen2017@qcf.jvn.edu.vn </p>\n"
   ]
  },
  {
   "cell_type": "markdown",
   "metadata": {},
   "source": [
    "# 2. Question "
   ]
  },
  {
   "cell_type": "markdown",
   "metadata": {},
   "source": [
    "## Question 1"
   ]
  },
  {
   "cell_type": "markdown",
   "metadata": {},
   "source": [
    "(Short rate/Long rate) For the pricing of a ZC bond, we consider not only the usual short-term interest rate (short rate) r but also the long-term interest rate (long rate) $\\mathscr{l}$. We suppose they follow the dynamics (for simplicity we drop the index t in the rate and Brownian processes)\n",
    "$$\n",
    "dr = \\beta_r(r,\\mathscr{l},t)dt + \\eta_r(r,\\mathscr{l},t)dW_r \\\\\n",
    "d\\mathscr{l} = \\beta_{\\mathscr{l}}(r,\\mathscr{l},t)dt + \\eta_{\\mathscr{l}}(r,\\mathscr{l},t)dW_\\mathscr{l} \\\\\n",
    "d\\langle W_r,W_\\mathscr{l}\\rangle = \\rho dt\n",
    "$$\n",
    "Let $B(r,\\mathscr{l},t;T)$ be the price of a T-maturity ZC bond."
   ]
  },
  {
   "cell_type": "markdown",
   "metadata": {},
   "source": [
    "a. Use Ito’s lemma to express the dynamic of B under the form \n",
    "$$\n",
    "\\frac{dB}{B} = \\mu(r,\\mathscr{l},t) dt + \\sigma_r (r,\\mathscr{l},t)dW_r + \\sigma_\\mathscr{l}(r,\\mathscr{l},\\mathscr{l},t) dW_\\mathscr{l} \n",
    "$$\n",
    "Provide the explicit expression of $\\mu,\\sigma_r,\\sigma_\\mathscr{l}$ as a function of $B$ and its partial derivative, as well as $(\\beta_r,\\beta_\\mathscr{l},\\eta_r,\\eta_\\mathscr{l})$."
   ]
  },
  {
   "cell_type": "markdown",
   "metadata": {},
   "source": [
    "**Answer:**"
   ]
  },
  {
   "cell_type": "markdown",
   "metadata": {},
   "source": [
    "Applied Ito formula on $B(r,\\mathscr{l},t;T)$ we have:\n",
    "$$\n",
    "dB(r,\\mathscr{l},t;T) = \\frac{\\partial B}{\\partial r}dr + \\frac{\\partial B}{\\partial \\mathscr{l}}d\\mathscr{l} + \\frac{\\partial B}{\\partial t}dt + \\frac{1}{2}\\frac{\\partial^2 B}{\\partial r^2}d\\langle r \\rangle + \\frac{1}{2}\\frac{\\partial^2 B}{\\partial l^2}d\\langle \\mathscr{l} \\rangle + \\frac{1}{2}\\frac{\\partial^2 B}{\\partial t^2}d\\langle t \\rangle \\\\+ \\frac{1}{2}\\frac{\\partial^2 B}{\\partial r\\partial \\mathscr{l}}d\\langle r,\\mathscr{l} \\rangle + \\frac{1}{2}\\frac{\\partial^2 B}{\\partial r\\partial t}d\\langle r,t \\rangle + \\frac{1}{2}\\frac{\\partial^2 B}{\\partial \\mathscr{l}\\partial t}d\\langle \\mathscr{l},t \\rangle\n",
    "\\quad (1) \n",
    "$$ \n",
    "\n",
    "On the other hand, we got:\n",
    "$$\n",
    "  \\begin{cases}\n",
    "    dW^2_t = dt       \\\\\n",
    "    dW^2_\\mathscr{l} = dt \\\\\n",
    "    d\\langle W_r,W_\\mathscr{l}\\rangle = \\rho dt \\\\\n",
    "    dt^i = 0 \\quad \\forall i>1\n",
    "  \\end{cases}\n",
    "$$"
   ]
  },
  {
   "cell_type": "markdown",
   "metadata": {},
   "source": [
    "Then\n",
    "$$\n",
    "\\begin{alignat}{3}\n",
    "  &\\begin{cases}\n",
    "        &dr \n",
    "        &= d\\langle r \\rangle &= \\beta_r(r,\\mathscr{l},t)dt + \\eta_r(r,\\mathscr{l},t)dW_r       \\\\\n",
    "        &d\\mathscr{l} \n",
    "        &= d\\langle \\mathscr{l} \\rangle &= \\beta_{\\mathscr{l}}(r,\\mathscr{l},t)dt + \\eta_{\\mathscr{l}}(r,\\mathscr{l},t)dW_\\mathscr{l} \\\\\n",
    "        &d\\langle r,\\mathscr{l} \\rangle \n",
    "        &= dr \\times d\\mathscr{l} &= \\bigg(\\beta_r(r,\\mathscr{l},t)dt + \\eta_r(r,\\mathscr{l},t)dW_r\\bigg)\\times\\bigg(\\beta_{\\mathscr{l}}(r,\\mathscr{l},t)dt + \\eta_{\\mathscr{l}}(r,\\mathscr{l},t)dW_\\mathscr{l}\\bigg)\n",
    "  \\end{cases}\\\\\n",
    "  &\\Leftrightarrow \\\\\n",
    "  &\\begin{cases}\n",
    "        &(dr)^2 \n",
    "        &= (\\beta_r(r,\\mathscr{l},t)dt)^2 + 2*\\beta_r(r,\\mathscr{l},t)dt*\\eta_r(r,\\mathscr{l},t)dW_r + (\\eta_r(r,\\mathscr{l},t)dW_r)^2       \\\\\n",
    "        &(d\\mathscr{l})^2 \n",
    "        &= (\\beta_{\\mathscr{l}}(r,\\mathscr{l},t)dt)^2 + 2*\\beta_{\\mathscr{l}}(r,\\mathscr{l},t)dt*\\eta_{\\mathscr{l}}(r,\\mathscr{l},t)dW_r + (\\eta_{\\mathscr{l}}(r,\\mathscr{l},t)dW_r)^2 \\\\\n",
    "        &d\\langle r,\\mathscr{l} \\rangle \n",
    "        &= \\eta_r(r,\\mathscr{l},t) \\eta_{\\mathscr{l}}(r,\\mathscr{l},t)\\langle dW_r;dW_\\mathscr{l} \\rangle\n",
    "  \\end{cases}\\\\\n",
    "  &\\Leftrightarrow \\\\\n",
    "  &\\begin{cases}\n",
    "    &(dr)^2 \n",
    "    &= \\eta^2_r(r,\\mathscr{l},t)dt      \\\\\n",
    "    &(d\\mathscr{l})^2 \n",
    "    &= \\eta^2_{\\mathscr{l}}(r,\\mathscr{l},t)dt\\\\\n",
    "    &d\\langle r,\\mathscr{l} \\rangle \n",
    "    &= \\eta_r(r,\\mathscr{l},t) \\eta_{\\mathscr{l}}(r,\\mathscr{l},t)\\rho dt\n",
    "  \\end{cases}\n",
    "\\end{alignat}\n",
    "$$"
   ]
  },
  {
   "cell_type": "markdown",
   "metadata": {},
   "source": [
    "Replace back into (1):\n",
    "$$\n",
    "\\begin{alignat}{2}\n",
    "    dB(r,\\mathscr{l},t;T) \n",
    "    &= \\frac{\\partial B}{\\partial r}\\big[ \\beta_r(r,\\mathscr{l},t)dt + \\eta_r(r,\\mathscr{l},t)dW_r \\big] + \\frac{\\partial B}{\\partial \\mathscr{l}}\\big[ \\beta_{\\mathscr{l}}(r,\\mathscr{l},t)dt + \\eta_{\\mathscr{l}}(r,\\mathscr{l},t)dW_\\mathscr{l} \\big] \\\\&+ \\frac{1}{2}\\frac{\\partial^2 B}{\\partial r^2} \\eta^2_r(r,\\mathscr{l},t)dt + \\frac{1}{2}\\frac{\\partial^2 B}{\\partial l^2} \\eta^2_{\\mathscr{l}}(r,\\mathscr{l},t)dt + \\frac{1}{2}\\frac{\\partial^2 B}{\\partial r\\partial \\mathscr{l}}\\eta_r(r,\\mathscr{l},t) \\eta_{\\mathscr{l}}(r,\\mathscr{l},t)\\rho dt \\\\\n",
    "    &= \\frac{\\partial B}{\\partial r} \\beta_r(r,\\mathscr{l},t)dt + \\frac{\\partial B}{\\partial r} \\eta_r(r,\\mathscr{l},t)dW_r + \\frac{\\partial B}{\\partial \\mathscr{l}}\\beta_{\\mathscr{l}}(r,\\mathscr{l},t)dt + \\frac{\\partial B}{\\partial \\mathscr{l}}\\eta_{\\mathscr{l}}(r,\\mathscr{l},t)dW_\\mathscr{l} \\\\ &+ \\frac{1}{2}\\frac{\\partial^2 B}{\\partial r^2} \\eta^2_r(r,\\mathscr{l},t)dt + \\frac{1}{2}\\frac{\\partial^2 B}{\\partial l^2} \\eta^2_{\\mathscr{l}}(r,\\mathscr{l},t)dt + \\frac{1}{2}\\frac{\\partial^2 B}{\\partial r\\partial \\mathscr{l}}\\eta_r(r,\\mathscr{l},t) \\eta_{\\mathscr{l}}(r,\\mathscr{l},t)\\rho dt \\\\\n",
    "    &= \\bigg[\\frac{\\partial B}{\\partial r} \\beta_r(r,\\mathscr{l},t) + \\frac{\\partial B}{\\partial \\mathscr{l}}\\beta_{\\mathscr{l}}(r,\\mathscr{l},t) + \\frac{1}{2}\\frac{\\partial^2 B}{\\partial r^2} \\eta^2_r(r,\\mathscr{l},t) + \\frac{1}{2}\\frac{\\partial^2 B}{\\partial l^2} \\eta^2_{\\mathscr{l}}(r,\\mathscr{l},t) \\\\ &+ \\frac{1}{2}\\frac{\\partial^2 B}{\\partial r\\partial \\mathscr{l}}\\eta_r(r,\\mathscr{l},t) \\eta_{\\mathscr{l}}(r,\\mathscr{l},t)\\rho \\bigg] dt + \\frac{\\partial B}{\\partial r} \\eta_r(r,\\mathscr{l},t)dW_r + \\frac{\\partial B}{\\partial \\mathscr{l}}\\eta_{\\mathscr{l}}(r,\\mathscr{l},t)dW_\\mathscr{l}\n",
    "\\end{alignat}\n",
    "$$"
   ]
  },
  {
   "cell_type": "markdown",
   "metadata": {},
   "source": [
    "Then\n",
    "$$\n",
    "\\begin{alignat}{2}\n",
    "    \\frac{dB}{B} \n",
    "    &= \\frac{1}{B}\\bigg[\\frac{\\partial B}{\\partial r} \\beta_r(r,\\mathscr{l},t) + \\frac{\\partial B}{\\partial \\mathscr{l}}\\beta_{\\mathscr{l}}(r,\\mathscr{l},t) + \\frac{1}{2}\\frac{\\partial^2 B}{\\partial r^2} \\eta^2_r(r,\\mathscr{l},t) + \\frac{1}{2}\\frac{\\partial^2 B}{\\partial l^2} \\eta^2_{\\mathscr{l}}(r,\\mathscr{l},t) \\\\ &+ \\frac{1}{2}\\frac{\\partial^2 B}{\\partial r\\partial \\mathscr{l}}\\eta_r(r,\\mathscr{l},t) \\eta_{\\mathscr{l}}(r,\\mathscr{l},t)\\rho \\bigg] dt + \\frac{1}{B}\\frac{\\partial B}{\\partial r} \\eta_r(r,\\mathscr{l},t)dW_r + \\frac{1}{B}\\frac{\\partial B}{\\partial \\mathscr{l}}\\eta_{\\mathscr{l}}(r,\\mathscr{l},t)dW_\\mathscr{l} \\\\\n",
    "    &= \\mu(r,\\mathscr{l},t) dt + \\sigma_r (r,\\mathscr{l},t)dW_r + \\sigma_\\mathscr{l}(r,\\mathscr{l},\\mathscr{l},t) dW_\\mathscr{l} \n",
    "\\end{alignat}\n",
    "$$"
   ]
  },
  {
   "cell_type": "markdown",
   "metadata": {},
   "source": [
    "******"
   ]
  },
  {
   "cell_type": "markdown",
   "metadata": {},
   "source": [
    "b. In order to remove the (two) risk exposures, we use bonds with three different maturities, $V_1 , V_2 , V_3$ units of bonds with maturity $T_1 , T_2 , T_3$ , respectively. Show that the dynamic of the portfolio value P can be expressed under the form\n",
    "$$\n",
    "dP = \\mu_P dt + \\sigma_{r,P}dW_r + \\sigma_{\\mathscr{l},P} dW_{\\mathscr{l}},\n",
    "$$\n",
    "with\n",
    "$$\n",
    "\\mu_P = V_1 \\mu(T_1) + V_2 \\mu(T_2) + V_3\\mu(T_3)\\\\\n",
    "\\sigma_{r,P} = V_1 \\sigma_{r}(T_1) + V_2 \\sigma_{r}(T_2) + V_3\\sigma_{r}(T_3)\\\\ \n",
    "\\sigma_{\\mathscr{l},P} = V_1 \\sigma_{\\mathscr{l}}(T_1) + V_2 \\sigma_{\\mathscr{l}}(T_2) + V_3\\sigma_{\\mathscr{l}}(T_3)\\\\ \n",
    "$$\n",
    "In the above equations, we have simplied the notation in writing $\\mu(T_i) = \\mu(r,\\mathscr{l},t;T_i)$, similarly for $\\sigma_r$ and $\\sigma_\\mathscr{l}$"
   ]
  },
  {
   "cell_type": "markdown",
   "metadata": {},
   "source": [
    "**Answer:**"
   ]
  },
  {
   "cell_type": "markdown",
   "metadata": {},
   "source": [
    "Let P is a portfolio consist of three bonds $V_1 , V_2 , V_3$ units of bonds with maturity $T_1 , T_2 , T_3$ , respectively:\n",
    "$$\n",
    "P = V_1 + V_2 + V_3 \\quad (1)\n",
    "$$"
   ]
  },
  {
   "cell_type": "markdown",
   "metadata": {},
   "source": [
    "Then, according to Lecture 5 - page 12, we got the Variation of P as below:\n",
    "$$\n",
    "\\begin{align}\n",
    "    &&\\frac{DP}{P} \n",
    "    &= \\frac{V_1}{V_1+V_2+V_3}\\frac{dB(T_1)}{B(T_1)} + \\frac{V_2}{V_1+V_2+V_3}\\frac{dB(T_2)}{B(T_2)} +\\frac{V_3}{V_1+V_2+V_3}\\frac{dB(T_3)}{B(T_3)}\\\\\n",
    "    &\\Leftrightarrow\n",
    "    &DP \n",
    "    &= V_1\\frac{dB(T_1)}{B(T_1)} + V_2\\frac{dB(T_2)}{B(T_2)} + V_3\\frac{dB(T_3)}{B(T_3)} \\quad \\text{ as } (1) \\\\\n",
    "\\end{align}\n",
    "$$"
   ]
  },
  {
   "cell_type": "markdown",
   "metadata": {},
   "source": [
    "Apply the conclusion from Question a, we have:\n",
    "$$\n",
    "  \\begin{cases}\n",
    "        \\frac{dB(T_1)}{B(T_1)} = \\mu(T_1)dt + \\sigma_r (T_1)dW_r + \\sigma_\\mathscr{l}(T_1) dW_\\mathscr{l}       \\\\\n",
    "        \\frac{dB(T_2)}{B(T_2)} = \\mu(T_2)dt + \\sigma_r (T_2)dW_r + \\sigma_\\mathscr{l}(T_2) dW_\\mathscr{l} \\\\\n",
    "        \\frac{dB(T_3)}{B(T_3)} = \\mu(T_3)dt + \\sigma_r (T_3)dW_r + \\sigma_\\mathscr{l}(T_3) dW_\\mathscr{l}\n",
    "  \\end{cases}\n",
    "$$"
   ]
  },
  {
   "cell_type": "markdown",
   "metadata": {},
   "source": [
    "So\n",
    "$$\n",
    "\\begin{align}\n",
    "    DP\n",
    "    &= V_1\\bigg[ \\mu(T_1)dt + \\sigma_r (T_1)dW_r + \\sigma_\\mathscr{l}(T_1) dW_\\mathscr{l} \\bigg] + V_2\\bigg[ \\mu(T_2)dt + \\sigma_r (T_2)dW_r + \\sigma_\\mathscr{l}(T_2) dW_\\mathscr{l} \\bigg] \\\\\n",
    "    &+ V_3\\bigg[ \\mu(T_3)dt + \\sigma_r (T_3)dW_r + \\sigma_\\mathscr{l}(T_3) dW_\\mathscr{l} \\bigg]\\\\\n",
    "    &= \\bigg[ V_1 \\mu(T_1) + V_2 \\mu(T_2) + V_3\\mu(T_3) \\bigg]dt + \\bigg[ V_1 \\sigma_{r}(T_1) + V_2 \\sigma_{r}(T_2) + V_3\\sigma_{r}(T_3) \\bigg]dW_r \\\\ &+ \\bigg[ V_1 \\sigma_{\\mathscr{l}}(T_1) + V_2 \\sigma_{\\mathscr{l}}(T_2) + V_3\\sigma_{\\mathscr{l}}(T_3) \\bigg]dW_\\mathscr{l} \\\\\n",
    "\\end{align}\n",
    "$$"
   ]
  },
  {
   "cell_type": "markdown",
   "metadata": {},
   "source": [
    "Let \n",
    "$$\n",
    "    \\begin{cases}\n",
    "        \\mu_P = V_1 \\mu(T_1) + V_2 \\mu(T_2) + V_3\\mu(T_3)\\\\\n",
    "        \\sigma_{r,P} = V_1 \\sigma_{r}(T_1) + V_2 \\sigma_{r}(T_2) + V_3\\sigma_{r}(T_3)\\\\ \n",
    "        \\sigma_{\\mathscr{l},P} = V_1 \\sigma_{\\mathscr{l}}(T_1) + V_2 \\sigma_{\\mathscr{l}}(T_2) + V_3\\sigma_{\\mathscr{l}}(T_3)\\\\\n",
    "    \\end{cases}\n",
    "$$"
   ]
  },
  {
   "cell_type": "markdown",
   "metadata": {},
   "source": [
    "We finally got\n",
    "$$\n",
    "dP = \\mu_P dt + \\sigma_{r,P}dW_r + \\sigma_{\\mathscr{l},P} dW_{\\mathscr{l}}\n",
    "$$"
   ]
  },
  {
   "cell_type": "markdown",
   "metadata": {},
   "source": [
    "******"
   ]
  },
  {
   "cell_type": "markdown",
   "metadata": {},
   "source": [
    "c. The NAO implies that, if we choose $V_1, V_2, V_3$ such that P is riskless, i.e., the stochastic terms $\\sigma_{r,P}$ and $\\sigma_{\\mathscr{l},P}$ are all zero, then P must earn the riskless short rate. Show that:\n",
    "$$\n",
    "\\begin{pmatrix}\n",
    "    \\sigma_{r}(T_1) & \\sigma_{r}(T_2) & \\sigma_{r}(T_3) \\\\\n",
    "    \\sigma_{\\mathscr{l}}(T_1) & \\sigma_{\\mathscr{l}}(T_2) & \\sigma_{\\mathscr{l}}(T_3) \\\\\n",
    "    \\mu(T_1)-r & \\mu(T_2)-r & \\mu(T_3)-r \n",
    "\\end{pmatrix}\n",
    "\\begin{pmatrix}\n",
    "    V_1\\\\\n",
    "    V_2\\\\\n",
    "    V_3\n",
    "\\end{pmatrix}\n",
    "= \\begin{pmatrix}\n",
    "    0\\\\\n",
    "    0\\\\\n",
    "    0\n",
    "\\end{pmatrix}\n",
    "$$"
   ]
  },
  {
   "cell_type": "markdown",
   "metadata": {},
   "source": [
    "**Answer:**"
   ]
  },
  {
   "cell_type": "markdown",
   "metadata": {},
   "source": [
    "We got:\n",
    "$$\n",
    "\\begin{align}\n",
    "\\begin{pmatrix}\n",
    "    \\sigma_{r}(T_1) & \\sigma_{r}(T_2) & \\sigma_{r}(T_3) \\\\\n",
    "    \\sigma_{\\mathscr{l}}(T_1) & \\sigma_{\\mathscr{l}}(T_2) & \\sigma_{\\mathscr{l}}(T_3) \\\\\n",
    "    \\mu(T_1)-r & \\mu(T_2)-r & \\mu(T_3)-r \n",
    "\\end{pmatrix}\n",
    "\\times\n",
    "\\begin{pmatrix}\n",
    "    V_1\\\\\n",
    "    V_2\\\\\n",
    "    V_3\n",
    "\\end{pmatrix}\n",
    "&=\n",
    "\\begin{pmatrix}\n",
    "    V_1\\sigma_r(T_1)+V_2\\sigma_r(T_2)+V_3\\sigma_r(T_3)\\\\\n",
    "    V_1\\sigma_\\mathscr{l}(T_1)+V_2\\sigma_\\mathscr{l}(T_2)+V_3\\sigma_\\mathscr{l}(T_3)\\\\\n",
    "    V_1\\big[\\mu(T_1) - r\\big]+V_2\\big[\\mu(T_2)-r\\big]+V_3\\big[\\mu(T_3)-r\\big] \n",
    "\\end{pmatrix}\\\\\n",
    "&=\n",
    "\\begin{pmatrix}\n",
    "    V_1\\sigma_r(T_1)+V_2\\sigma_r(T_2)+V_3\\sigma_r(T_3)\\\\\n",
    "    V_1\\sigma_\\mathscr{l}(T_1)+V_2\\sigma_\\mathscr{l}(T_2)+V_3\\sigma_\\mathscr{l}(T_3)\\\\\n",
    "    V_1\\mu(T_1)+V_2\\mu(T_2)+V_3\\mu(T_3)-r(V_1+V_2+V_3)\n",
    "\\end{pmatrix} \\quad (*)\n",
    "\\end{align}\n",
    "$$"
   ]
  },
  {
   "cell_type": "markdown",
   "metadata": {},
   "source": [
    "First of all, we have all the stochastic term will equal to 0 due to the riskless condition of P. Then\n",
    "$$\n",
    "\\begin{cases}\n",
    "    V_1\\sigma_r(T_1)+V_2\\sigma_r(T_2)+V_3\\sigma_r(T_3) = 0 \\\\\n",
    "    V_1\\sigma_\\mathscr{l}(T_1)+V_2\\sigma_\\mathscr{l}(T_2)+V_3\\sigma_\\mathscr{l}(T_3) = 0\n",
    "  \\end{cases}\\\\\n",
    "$$\n",
    "On the other hand, P is riskless also means $dP = rP$. But we also got:\n",
    "$$\n",
    "  \\begin{cases}\n",
    "    dP = \\mu_P dt + \\sigma_{r,P}dW_r + \\sigma_{\\mathscr{l},P} dW_{\\mathscr{l}} = \\mu_pdt \\\\\n",
    "    rP = r(V_1+V_2+V_3)\n",
    "  \\end{cases}\\\\\n",
    "  \\begin{align}\n",
    "  &\\Leftrightarrow\n",
    "  &\\mu_P dt &= r(V_1+V_2+V_3) \\\\\n",
    "  &\\Leftrightarrow\n",
    "  &V_1\\mu(T_1)+V_2\\mu(T_2)+V_3\\mu(T_3) &= r(V_1+V_2+V_3) \\\\\n",
    "  &\\Leftrightarrow\n",
    "  &V_1\\mu(T_1)+V_2\\mu(T_2)+V_3\\mu(T_3) - r(V_1+V_2+V_3) &= 0\n",
    "\\end{align}\n",
    "$$"
   ]
  },
  {
   "cell_type": "markdown",
   "metadata": {},
   "source": [
    "Then $(*)$:\n",
    "$$\n",
    "\\begin{pmatrix}\n",
    "    \\sigma_{r}(T_1) & \\sigma_{r}(T_2) & \\sigma_{r}(T_3) \\\\\n",
    "    \\sigma_{\\mathscr{l}}(T_1) & \\sigma_{\\mathscr{l}}(T_2) & \\sigma_{\\mathscr{l}}(T_3) \\\\\n",
    "    \\mu(T_1)-r & \\mu(T_2)-r & \\mu(T_3)-r \n",
    "\\end{pmatrix}\n",
    "\\begin{pmatrix}\n",
    "    V_1\\\\\n",
    "    V_2\\\\\n",
    "    V_3\n",
    "\\end{pmatrix}\n",
    "=\\begin{pmatrix}\n",
    "    0\\\\\n",
    "    0\\\\\n",
    "    0\n",
    "\\end{pmatrix}\n",
    "$$"
   ]
  },
  {
   "cell_type": "markdown",
   "metadata": {},
   "source": [
    "******"
   ]
  },
  {
   "cell_type": "markdown",
   "metadata": {},
   "source": [
    "d. We admit that the necessary condition for the above system has nontrivial solution is the last row is a linear combination of the ﬁrst two rows. Since it holds true for arbitrary value of $T_1 , T_2 , T_3$ , there must exist two multipliers $\\lambda_r (r,\\mathscr{l}, t)$ and $\\lambda_\\mathscr{l}(r,\\mathscr{l},t)$ such that\n",
    "$$\n",
    "\\mu(r,\\mathscr{l},t) − r = \\lambda_r(r,\\mathscr{l},t)\\sigma_r(r,\\mathscr{l},t) + \\lambda_\\mathscr{l}(r,\\mathscr{l},t)\\sigma_\\mathscr{l}(r,\\mathscr{l},t).\n",
    "$$\n",
    "Provide an plausible interpretation for $\\lambda_r (r,\\mathscr{l}, t)$ and $\\lambda_\\mathscr{l}(r,\\mathscr{l},t)$. Deduce the governing equation for the bond price $B$."
   ]
  },
  {
   "cell_type": "markdown",
   "metadata": {},
   "source": [
    "**Answer:**"
   ]
  },
  {
   "cell_type": "markdown",
   "metadata": {},
   "source": []
  },
  {
   "cell_type": "markdown",
   "metadata": {},
   "source": [
    "## Question 2"
   ]
  },
  {
   "cell_type": "markdown",
   "metadata": {},
   "source": [
    "(Hull-White extended Vasisek) Hull-White proposed the following dynamics for $r$ under $\\mathbb{P}$, extended from the Vasicek model,\n",
    "$$\n",
    "dr_t = \\big[\\theta(t) + \\alpha(t)(d − r_t)\\big] dt + \\sigma(t) dW_t .\n",
    "$$"
   ]
  },
  {
   "cell_type": "markdown",
   "metadata": {},
   "source": [
    "a. Using the term-structure equation show that the T-maturity ZC-bond price $B(r; t; T )$ veriﬁes\n",
    "$$\n",
    "\\frac{\\partial B}{\\partial t} + \\bigg[\\phi(t) - \\alpha(t)r\\bigg]\\frac{\\partial B}{\\partial r} + \\frac{\\sigma^2(t)}{2}\\frac{\\partial^2 B}{\\partial r^2} - rB = 0, \\quad B(.,T;T)=1\n",
    "$$\n",
    "Provide an explicit expression of $\\phi(t)$, you can use $\\lambda(t)$ for the time dependent market price of risk."
   ]
  },
  {
   "cell_type": "markdown",
   "metadata": {},
   "source": [
    "**Answer:**"
   ]
  },
  {
   "cell_type": "markdown",
   "metadata": {},
   "source": [
    "Apply Ito formula into $B(r,t)$ we have:\n",
    "$$\n",
    "dB(r,t) = \\frac{\\partial B}{\\partial t}dt + \\frac{\\partial B}{\\partial r}dr +  \\frac{1}{2}\\frac{\\partial^2 B}{\\partial r^2}d\\langle r \\rangle \\\\\n",
    "$$"
   ]
  },
  {
   "cell_type": "markdown",
   "metadata": {},
   "source": [
    "As:\n",
    "$$\n",
    "dr_t = \\big[\\theta(t) + \\alpha(t)(d − r_t)\\big] dt + \\sigma(t) dW_t \n",
    "\\Leftrightarrow\n",
    "d\\langle r \\rangle = (dr_t)^2 = \\sigma^2(t)dt\n",
    "$$"
   ]
  },
  {
   "cell_type": "markdown",
   "metadata": {},
   "source": [
    "Then\n",
    "$$\n",
    "\\begin{align}\n",
    "   dB(r,t) \n",
    "   &= \\frac{\\partial B}{\\partial t}dt + \\frac{\\partial B}{\\partial r}\\bigg[ \\big[\\theta(t) + \\alpha(t)(d − r_t)\\big] dt + \\sigma(t) dW_t \\bigg] +  \\frac{1}{2}\\frac{\\partial^2 B}{\\partial r^2}\\sigma^2(t)dt \\\\\n",
    "    &= \\bigg[ \\frac{\\partial B}{\\partial t} + \\frac{\\partial B}{\\partial r}\\big[ \\theta(t) + \\alpha(t)(d − r_t) \\big] + \\frac{1}{2}\\frac{\\partial^2 B}{\\partial r^2}\\sigma^2(t) \\bigg]dt + \\frac{\\partial B}{\\partial r}\\sigma(t) dW_t\n",
    "\\end{align}\n",
    "$$"
   ]
  },
  {
   "cell_type": "markdown",
   "metadata": {},
   "source": [
    "We also have SDE:\n",
    "$$\n",
    "dB(r,t) = rBdt + \\partial BdW_t\n",
    "\\Leftrightarrow\n",
    "\\begin{cases}\n",
    "    rB = \\frac{\\partial B}{\\partial t} + \\frac{\\partial B}{\\partial r}\\big[ \\theta(t) + \\alpha(t)(d − r_t) \\big] + \\frac{1}{2}\\frac{\\partial^2 B}{\\partial r^2}\\sigma^2(t) \\\\\n",
    "    \\partial B = \\frac{\\partial B}{\\partial r}\\sigma(t)\n",
    "\\end{cases}\\\\\n",
    "\\Leftrightarrow\n",
    "\\begin{cases}\n",
    "    \\frac{\\partial B}{\\partial t} + \\frac{\\partial B}{\\partial r}\\big[ \\theta(t) + \\alpha(t)(d − r_t) \\big] + \\frac{1}{2}\\frac{\\partial^2 B}{\\partial r^2}\\sigma^2(t) - rB = 0 \\\\\n",
    "    \\frac{\\partial B}{\\partial r}\\sigma(t) - \\partial B = 0\n",
    "\\end{cases}\n",
    "\\Rightarrow \\text{proved!}\n",
    "$$"
   ]
  },
  {
   "cell_type": "markdown",
   "metadata": {},
   "source": [
    "******"
   ]
  },
  {
   "cell_type": "markdown",
   "metadata": {},
   "source": [
    "b. Show the bond prince $B(r,t;T) = e^{a(t,T)-b(t,T)r}$ where $a,b$ verify\n",
    "$$\n",
    "\\frac{\\partial a}{\\partial t} - \\phi(t)b + \\frac{\\sigma^2(t)}{2}b^2 = 0 \\\\\n",
    "\\frac{\\partial b}{\\partial t} - \\alpha(t)b + 1 = 0 \\\\\n",
    "$$\n",
    "with auxiliary conditions $a( T, T) = 0$ and $b( T, T ) = 0$."
   ]
  },
  {
   "cell_type": "markdown",
   "metadata": {},
   "source": [
    "**Answer:**"
   ]
  },
  {
   "cell_type": "markdown",
   "metadata": {},
   "source": [
    "Let look at the $dB(r,t)$, we have:\n",
    "$$\n",
    "dB(r,t) = \\frac{\\partial B}{\\partial t}dt + \\frac{\\partial B}{\\partial r}dr + \\frac{1}{2}\\frac{\\partial^2 B}{\\partial r^2}d\\langle r \\rangle\n",
    "$$"
   ]
  },
  {
   "cell_type": "markdown",
   "metadata": {},
   "source": [
    "Then:\n",
    "$$\n",
    "\\begin{cases}\n",
    "    \\frac{\\partial B}{\\partial t} = \\big( \\frac{\\partial a}{\\partial t} + \\frac{\\partial b}{\\partial t}r \\big)e^{a(t,T)-b(t,T)r} = \\big( \\frac{\\partial a}{\\partial t} + \\frac{\\partial b}{\\partial t}r \\big) B\\\\\n",
    "    \\frac{\\partial B}{\\partial r} =  -b e^{a(t,T)-b(t,T)r} = bB\\\\\n",
    "    \\frac{\\partial^2 B}{\\partial r^2} = b^2B\n",
    "\\end{cases}\n",
    "$$"
   ]
  },
  {
   "cell_type": "markdown",
   "metadata": {},
   "source": [
    "In Question 2.a. we also got:\n",
    "$$\n",
    "\\begin{align}\n",
    "   &\\frac{\\partial B}{\\partial t} + \\frac{\\partial B}{\\partial r}\\big[ \\theta(t) + \\alpha(t)(d − r) \\big] + \\frac{1}{2}\\frac{\\partial^2 B}{\\partial r^2}\\sigma^2(t) - rB = 0 \\\\\n",
    "   &\\Leftrightarrow\n",
    "    \\bigg( \\frac{\\partial a}{\\partial t} + \\frac{\\partial b}{\\partial t}r \\bigg) B + bB\\big[ \\theta(t) + \\alpha(t)(d − r) \\big] + \\frac{1}{2}b^2B\\sigma^2(t) - rB = 0 \\\\\n",
    "   &\\Leftrightarrow\n",
    "\\bigg( \\frac{\\partial a}{\\partial t} + \\frac{\\partial b}{\\partial t}r \\bigg) + b\\big[ \\theta(t) + \\alpha(t)(d − r) \\big] + \\frac{1}{2}b^2\\sigma^2(t) - r = 0 \\\\\n",
    "   &\\Leftrightarrow\n",
    "\\bigg(\\frac{\\partial a}{\\partial t} + b\\theta(t) + b\\alpha(t)d + \\frac{1}{2}b^2\\sigma^2(t) \\bigg) + r \\bigg(\\frac{\\partial b}{\\partial t} +  b\\alpha(t) -1 \\bigg) = 0 \\\\\n",
    "   &\\Leftrightarrow\n",
    "\\begin{cases}\n",
    "    \\frac{\\partial a}{\\partial t} + b\\theta(t) + b\\alpha(t)d + \\frac{1}{2}b^2\\sigma^2(t) = 0 \\\\\n",
    "    \\frac{\\partial b}{\\partial t} +  b\\alpha(t) -1 = 0 \\quad \\text{As } r \\neq 0\n",
    "\\end{cases} \\\\\n",
    "   &\\Leftrightarrow\n",
    "\\begin{cases}\n",
    "    \\frac{\\partial a}{\\partial t} + \\phi(t)b + \\frac{1}{2}b^2\\sigma^2(t) = 0 \\quad \\text{let } \\phi(t) = \\theta(t) + \\alpha(t)d \\\\\n",
    "    \\frac{\\partial b}{\\partial t} +  b\\alpha(t) -1 = 0\n",
    "\\end{cases} \\\\\n",
    "   &\\Leftrightarrow \\quad \\text{Proved!}\n",
    "\\end{align}\n",
    "$$"
   ]
  },
  {
   "cell_type": "markdown",
   "metadata": {},
   "source": [
    "c. Solve for $a, b$ in terms of $\\alpha, \\phi$ and $\\sigma$. "
   ]
  },
  {
   "cell_type": "markdown",
   "metadata": {},
   "source": [
    "**Answer:**"
   ]
  },
  {
   "cell_type": "markdown",
   "metadata": {},
   "source": []
  },
  {
   "cell_type": "markdown",
   "metadata": {},
   "source": [
    "d. To avoid the estimation of $\\alpha$ and $\\phi$ in the dynamic of $r$, it is desirable to express $a(t,T)$ and $b(t, T )$ in terms of $a(0, t)$ and $b(0, t)$, show that the new set of governing equations is\n",
    "\n",
    "$$\n",
    "\\frac{\\partial b}{\\partial t}\\frac{\\partial b}{\\partial T} -b\\frac{\\partial^2 b}{\\partial t\\partial T} + \\frac{\\partial b}{\\partial T} = 0 \\\\\n",
    "b\\frac{\\partial^2a}{\\partial t\\partial T} - \\frac{\\partial a}{\\partial t}\\frac{\\partial b}{\\partial T} + \\frac{\\sigma^2(t)b^2}{2}\\frac{\\partial b}{\\partial T}=0\n",
    "$$\n",
    "with auxiliary conditions $a( T, T) = 0$ and $b( T, T ) = 0$."
   ]
  },
  {
   "cell_type": "markdown",
   "metadata": {},
   "source": [
    "**Answer:**"
   ]
  },
  {
   "cell_type": "markdown",
   "metadata": {},
   "source": [
    "e. From the above equations, show that:\n",
    "$$\n",
    "b(t,T) = \\frac{b(0,T)-b(0,t)}{\\frac{\\partial b}{\\partial T}\\big(0,T\\big)\\mid_{T=t}} \\\\\n",
    "a(t,T) = a(0,T) - a(0,t) - b(t,T)\\frac{\\partial a}{\\partial T}\\big(0,T\\big)\\mid_{T=t}-\\frac{1}{2}\\big[b(t,T)\\frac{\\partial b}{\\partial T}\\big(0,T\\big)\\mid_{T=t}\\big]^2 \\int_0^t \\bigg[ \\frac{\\sigma(u)}{\\frac{\\partial b}{\\partial T}\\big(0,T\\big)\\mid_{T=0}} \\bigg]^2\\mathrm{d}u\n",
    "$$"
   ]
  },
  {
   "cell_type": "markdown",
   "metadata": {},
   "source": [
    "**Answer:**"
   ]
  }
 ],
 "metadata": {
  "kernelspec": {
   "display_name": "Python 3",
   "language": "python",
   "name": "python3"
  },
  "language_info": {
   "codemirror_mode": {
    "name": "ipython",
    "version": 3
   },
   "file_extension": ".py",
   "mimetype": "text/x-python",
   "name": "python",
   "nbconvert_exporter": "python",
   "pygments_lexer": "ipython3",
   "version": "3.7.0"
  }
 },
 "nbformat": 4,
 "nbformat_minor": 2
}
