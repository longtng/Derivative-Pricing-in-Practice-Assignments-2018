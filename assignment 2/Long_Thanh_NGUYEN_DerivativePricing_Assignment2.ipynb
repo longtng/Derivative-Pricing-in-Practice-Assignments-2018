{
 "cells": [
  {
   "cell_type": "markdown",
   "metadata": {},
   "source": [
    "## Assignment 2\n",
    "<p>April 2018 </p>\n",
    "<p>Long Thanh NGUYEN </p>\n",
    "<p>long.nguyen2017@qcf.jvn.edu.vn </p>\n"
   ]
  },
  {
   "cell_type": "markdown",
   "metadata": {},
   "source": [
    "## Question 1 \n",
    "(European Put-Call parity revisited) We consider portfolio A: long a call and short a put on the same underlying S, strike-price K and maturity T. Portfolio B consists of a long prepaid forward contract on S for the same maturity T, as well as borrowing the present value of the strike-price K to be repaid at T."
   ]
  },
  {
   "cell_type": "markdown",
   "metadata": {},
   "source": [
    "**a.** What is the initial cost, intermediate cash-ﬂow and ﬁnal payoff of A? </P>\n",
    "**b.** What is the initial cost, intermediate cash-ﬂow and ﬁnal payoff of B? \n",
    "(Let’s denote $F_{0,T}$(S) for the price of a prepaid forward contract on S for delivery at T, P(0,T) is the price of a zero-coupon bond paying $1 at T.)"
   ]
  },
  {
   "cell_type": "markdown",
   "metadata": {},
   "source": [
    "**Answer:**"
   ]
  },
  {
   "cell_type": "markdown",
   "metadata": {},
   "source": [
    "|<div style=\"text-align: left\">Time</div>|<div style=\"text-align: center\"> t=0 </div><div style=\"text-align: center\"> Initial Cost </div>|<div style=\"text-align: center\">t=k </div><div style=\"text-align: center\"> Intermidiate Cost</div>|<div style=\"text-align: center\">t=T </div><div style=\"text-align: center\"> Final Payoff</div>|Total Profit|\n",
    "|:---|:---:|:---:|:---:|---:|\n",
    "|Portfolio A|-C(K,T) + P(K,T)|Remained Unchanged|Max($S_T$-K,0) - Max(K-$S_T$,0)|$S_T$-K|\n",
    "|Portfolio B|$-F_{0,T}(S)$ + $Ke^{-rT}$|Receive Interest Payment|+$S_T$-K|$S_T$-K|"
   ]
  },
  {
   "cell_type": "markdown",
   "metadata": {},
   "source": [
    "**c.** Using the no-arbitrage principale to get a generic form of the Put-Call parity."
   ]
  },
  {
   "cell_type": "markdown",
   "metadata": {},
   "source": [
    "**Answer:** Acording to no-arbitrage principale:"
   ]
  },
  {
   "cell_type": "markdown",
   "metadata": {},
   "source": [
    "$$ C(K,T) + P(K,T) = S_0e^{−qT} - Ke^{−rT} $$\n",
    "or\n",
    "$$C(K,T) + Ke^{−rT} = P(K,T) + S_0e^{−qT} (*)$$"
   ]
  },
  {
   "cell_type": "markdown",
   "metadata": {},
   "source": [
    "**Proof:**"
   ]
  },
  {
   "cell_type": "markdown",
   "metadata": {},
   "source": [
    "<p>If the (*) is not equal, assume that: </p>\n",
    "<p> $C(K,T) + Ke^{−rT} > P(K,T) + S_0e^{−qT}$ then $C(K,T) + Ke^{−rT} - P(K,T) - S_0e^{−qT} > 0$ </p> <p>(**)</p>\n",
    "<ul>We got:\n",
    "    <ul>C(K,T): short a call</ul>\n",
    "    <ul>$Ke^{−rT}$: borrow money</ul>\n",
    "    <ul>$-P(K,T)$: long a put</ul>\n",
    "    <ul>$-S_0e^{−qT}$: buy stocks</ul>\n",
    "</ul>\n",
    "At the t=T, the final profit should be: $-Max(S_T-K,0) - K + Max(K-S_T,0) + (S_Te^{-qT})e^{qT}$ </p>\n",
    "<ul> if $K > S_T$: final profit: 0 - K + K - $S_T$ + $S_T$ = 0 </ul>\n",
    "<ul> if $K < S_T$: final profit: $-S_T$ + K - K + 0 + $S_T$ = 0 </ul>\n",
    "In short, (**) is not true. </P>\n",
    "Furthermore, $C(K,T) + Ke^{−rT} - P(K,T) - S_0e^{−qT} < 0$ also not true (with similar proofing)</p> \n",
    "<p> Then <div style=\"text-align: center\"> \n",
    "$C(K,T) + Ke^{−rT} = P(K,T) + S_0e^{−qT} $ </div>"
   ]
  },
  {
   "cell_type": "markdown",
   "metadata": {},
   "source": [
    "**d.** Suppose the risk-free interest rate is r, provide the Put-Call parity in three speciﬁc cases: \n",
    "    <ul>\n",
    "    <ul> i. S pays no dividend; </ul>\n",
    "    <ul> ii. S pays n discrete dividends $d_i$ at $t_i$ for i ∈ [1, n]; </ul>\n",
    "    <ul> iii. S pays a continuous dividends at the rate q. </ul>\n",
    "    </ul>"
   ]
  },
  {
   "cell_type": "markdown",
   "metadata": {},
   "source": [
    "**Answer:**"
   ]
  },
  {
   "cell_type": "markdown",
   "metadata": {},
   "source": [
    "|<div style=\"text-align: left\">Time</div>|<div style=\"text-align: center\"> Put-Call parity </div>|\n",
    "|:---|:---:|\n",
    "|<div style=\"text-align: left\">S pays no dividend</div>|<div style=\"text-align: left\">C(K,T) + $Ke^{−rT}$ = P(K,T) + $S_0$</div>|\n",
    "|<div style=\"text-align: left\">S pays n discrete dividends $d_i$ at $t_i$ for i ∈ [1, n]</div>|<div style=\"text-align: left\">C(K,T) + $Ke^{−rT}$ = P(K,T) + $S_0$ + $\\sum_{i=1}^{n}(d_ie^{-rt_i})$</div>|\n",
    "|<div style=\"text-align: left\">S pays a continuous dividends at the rate q</div>|<div style=\"text-align: left\">C(K,T) + $Ke^{−rT}$ = P(K,T) + $S_0e^{−qT}$</div>|"
   ]
  },
  {
   "cell_type": "markdown",
   "metadata": {},
   "source": [
    "## Question 2 \n",
    "\n",
    "Let’s ﬁrst recall that the Put-Call parity for a stock paying dividends </p>\n",
    "<div style=\"text-align: center\"> C(K,T) + $Ke^{−rT}$ = P(K,T) + $S_0e^{−qT}$, q : dividend yield over (0, T). </div>\n",
    "The **Implied Dividend** yield is the value of q such that the Put-Call parity holds true. </p>\n",
    "<div style=\"text-align: center\">\n",
    "IDIV(K,T) = $-\\frac{1}{T}log\\frac{C(K,T) − P(K,T) + Ke^{−rT}}{S}$ </div>\n",
    "<ul>\n",
    "<ul> a. Get prices of AAPL option on 01/06/2017 from the data ﬁle. </ul>"
   ]
  },
  {
   "cell_type": "markdown",
   "metadata": {},
   "source": [
    "## Question 3 \n",
    "\n",
    "(Model risk in binomial tree framework) We re-consider the binomial tree model, in which the price at t = 1 has the following dynamics: </p>\n",
    "<div style=\"text-align: center\">\n",
    "$\n",
    "\\begin{cases}\n",
    "  S_u=uS_0 \\text{ with probability p}\\\\    \n",
    "  S_d=dS_0 \\text{ with probability 1-p}\\\\    \n",
    "\\end{cases}\n",
    "$\n",
    "</div>\n",
    "Let’s suppose the risk-free rate is constant, thus from B 0 = 1 we have B 1 = 1 + r for an investment in the bank account.\n",
    "<ul>\n",
    "**a.** Verify that in order to exclude the opportunity arbitrage, one must have </ul>\n",
    "    <div style=\"text-align: center\"> d < 1 + r < u. </div>\n",
    "At t = 0 we sell a derivative with payoff g($S_1$) at the price $g_0$. We would like to hedge our position in setting a self-ﬁnancing strategy. The strategy consists in holding ∆ units of S and investing the rest in the bank account B."
   ]
  },
  {
   "cell_type": "markdown",
   "metadata": {},
   "source": [
    "**Answer:**"
   ]
  },
  {
   "cell_type": "markdown",
   "metadata": {},
   "source": [
    "To solve this problem, we assume there would be two cases:\n",
    "<ul>\n",
    "    <ul>+ d > 1 + r</ul>\n",
    "    <ul>+ 1 + r >u</ul>\n",
    "</ul>\n",
    "\n",
    "|<div style=\"text-align: left\">Time t</div>|<div style=\"text-align: center\"> d > 1 + r </div>|<div style=\"text-align: center\"> 1 + r >u </div>|\n",
    "|:---|:---|:---:|\n",
    "|<div style=\"text-align: left\">t = 0</div>|<div style=\"text-align: left\"><ul>- Borrow $S_0$ @ r </ul><ul>- Long stock stocks @ $S_0$</ul></div>|<div style=\"text-align: left\"><ul>- Short stocks for $S_0$ </ul><ul>- Deposit amout $S_0$ @ r</ul></div>|\n",
    "|<div style=\"text-align: left\">t = 1</div>|<div style=\"text-align: left\"><ul>- Sell Stock get $dS_0$ </ul><ul>- Pay back $S_0(1+r)$</ul></div>|<div style=\"text-align: left\"><ul>- Widraw deposit as $S_0(1+r)$</ul><ul>- Buy stock stocks @ $uS_0$</ul></div>|\n",
    "|<div style=\"text-align: left\">Conclusion</div>|<div style=\"text-align: left\"><ul>$dS_0$ > $S_0(1+r)$</ul><ul>$\\rightarrow$ It agaist the arbitrage rule as we can make profit without initial investment</ul></div>|<div style=\"text-align: left\"><ul>$S_0(1+r)$ > $uS_0$</ul><ul>$\\rightarrow$ It agaist the arbitrage rule as we can make profit without initial investment</ul></div>|\n",
    "In short, in order to exclude the opportunity arbitrage, one must have d < 1 + r < u"
   ]
  },
  {
   "cell_type": "markdown",
   "metadata": {},
   "source": [
    "<ul>**b.** Show that ∆ and the price of this derivative are given by: </ul>\n",
    "<div style=\"text-align: center\"> $\\Delta = \\frac{g(S_u)-g(S_d)}{S_u-S_d}$ </div> </p>\n",
    "<div style=\"text-align: center\"> $g_0 = \\frac{qg_u + (1-q)g_d}{1+r}$ where $q = \\frac{(1+r)-d}{u-d}$ </div> </p>\n",
    "Now instead of supposing S 1 takes only two values, we relax this assumption: without knowing the exact dynamics of S 1 , we only know with probability 1:\n",
    "<div style=\"text-align: center\"> $S_1 ∈ [Sd,Su]$. </div>\n",
    "We suppose further that the payoff function is convex, i.e., for $y_d$ ≤ y ≤ $y_u$,\n",
    "<div style=\"text-align: center\"> $g(y_d) + \\frac{g(y_u)-g(y_d)}{y_u - y_d}(y - y_d)$ ≥ $g(y_d)$ </div>"
   ]
  },
  {
   "cell_type": "markdown",
   "metadata": {},
   "source": [
    "**Answer:**"
   ]
  },
  {
   "cell_type": "markdown",
   "metadata": {},
   "source": [
    "We got:\n",
    "\n",
    "|<div style=\"text-align: left\">Time t</div>|<div style=\"text-align: center\"> Stocks go up </div>|<div style=\"text-align: center\"> Stocks go down </div>|\n",
    "|:---|:---|:---:|\n",
    "|<div style=\"text-align: left\">t = 0</div>|<div style=\"text-align: left\"> $\\Delta$$S_0$$ - g_0 + B_0$ </div>|<div style=\"text-align: left\"> $\\Delta$$S_0$$ - g_0 + B_0$ </div>|\n",
    "|<div style=\"text-align: left\">t = 1</div>|<div style=\"text-align: left\"> $\\Delta$$S_0u$$ - g_u$ $+ B_0(1+r)$ </div>|<div style=\"text-align: left\"> $\\Delta$$S_0d$$ - g_d$ $+ B_0(1+r)$ </div>|\n",
    "\n",
    "In order to hedge our position, we got: </p>\n",
    "<p>$\\Delta$$S_0u$$ - g_u$ $+ (1+r)$ =  $\\Delta$$S_0d$$ - g_d$ $+ (1+r)$ (as $B_0=1$)</p>\n",
    "<p>$\\Leftrightarrow \\Delta$$S_0$(u-d) = $g_u$$ + g_d$ </p>\n",
    "$\\Leftrightarrow \\Delta$ $=$ $\\frac{g_u + g_d}{S_0(u-d)}$ = $\\frac{g(S_u)-g(S_d)}{S_u-S_d}$ "
   ]
  },
  {
   "cell_type": "markdown",
   "metadata": {},
   "source": [
    "Next, as the portfolio is riskless, we can discounted back the asset at time t=1 back to t=0 and both need to be equal as below: \n",
    "$$\n",
    "\\frac{\\Delta S_0u - g_u + B_0(1+r)}{1+r} = \\Delta S_0 - g_0 + B_0 \\\\\n",
    "\\Leftrightarrow g_0 = \\Delta S_0 + 1 - \\frac{\\Delta S_0u - g_u + (1+r)}{1+r} \\text{(as } B_0=1 \\text{)} \\\\\n",
    "\\Leftrightarrow g_0 = \\Delta S_0  - \\frac{\\Delta S_0u - g_u }{1+r} \\\\\n",
    "\\Leftrightarrow g_0 = \\frac{(1+r)\\Delta S_0  - \\Delta S_0u + g_u}{r+1} \\\\\n",
    "\\Leftrightarrow g_0 = \\frac{(1+r-u)\\Delta S_0 + g_u}{r+1} \\\\\n",
    "\\Leftrightarrow g_0 = \\frac{1}{r+1}((1+r-u)\\Delta S_0 + g_u) \\\\\n",
    "$$\n",
    "we got: \n",
    "$$\n",
    "\\Delta = \\frac{g_u + g_d}{S_0(u-d)}$ = $\\frac{g(S_u)-g(S_d)}{S_u-S_d} \\\\\n",
    "$$\n",
    "then:\n",
    "$$\n",
    "\\Leftrightarrow g_0 = \\frac{1}{r+1}((1+r-u)\\frac{g_u + g_d}{S_0(u-d)} S_0 + g_u) \\\\\n",
    "\\Leftrightarrow g_0 = \\frac{1}{r+1}((1+r-u)\\frac{g_u + g_d}{(u-d)} + g_u) \\\\\n",
    "\\Leftrightarrow g_0 = \\frac{1}{r+1}(\\frac{(1+r-u)(g_u + g_d) + g_u(u-d)}{(u-d)}) \\\\\n",
    "\\Leftrightarrow g_0 = \\frac{1}{r+1}(\\frac{g_u + g_ur - g_uu + g_d + g_dr - g_du + g_uu - g_ud}{(u-d)}) \\\\\n",
    "\\Leftrightarrow g_0 = \\frac{1}{r+1}(\\frac{g_u(1 + r - d) + g_d(1 + r - u)}{(u-d)}) \\\\\n",
    "\\Leftrightarrow g_0 = \\frac{1}{r+1}(\\frac{g_u(1 + r - d)}{(u-d)} + \\frac{g_d(1 + r - u)}{(u-d)}) \\\\\n",
    "$$"
   ]
  },
  {
   "cell_type": "markdown",
   "metadata": {},
   "source": [
    "Let $q=\\frac{(1 + r - d)}{(u-d)}$ then $1-q=\\frac{(1 + r - u)}{(u-d)}$ </p>\n",
    "Finally we got: $g_0 = \\frac{qg_u + (1-q)g_d}{1+r}$ where $q = \\frac{(1+r)-d}{u-d}$ "
   ]
  },
  {
   "cell_type": "markdown",
   "metadata": {},
   "source": [
    "<ul> c. We keep using the same hedging strategy as in b., what is the PnL of the hedging strategy in the new model? </ul>"
   ]
  },
  {
   "cell_type": "markdown",
   "metadata": {},
   "source": [
    "**Answer:**"
   ]
  },
  {
   "cell_type": "markdown",
   "metadata": {},
   "source": [
    "We got PnL as follow:\n",
    "\n",
    "|<div style=\"text-align: left\">Time t</div>|<div style=\"text-align: center\"> Portfolio </div>|\n",
    "|:---|:---|\n",
    "|<div style=\"text-align: left\">t = 0</div>|<div style=\"text-align: left\"> $\\Delta$$S_0$ - $g_0$ + $B_0$ </div>|\n",
    "|<div style=\"text-align: left\"></div>|<div style=\"text-align: left\"> $=\\frac{g(S_u)-g(S_d)}{S_u-S_d}$$S_0$ - $\\frac{qg_u + (1-q)g_d}{1+r}$ + $B_0$ </div>|\n",
    "|<div style=\"text-align: left\">t = 1</div>|<div style=\"text-align: left\"> $\\Delta$$S_1$ - $g_y$ + $B_0(1+r)$ </div>|\n",
    "|<div style=\"text-align: left\">PnL @ t=1</div>|<div style=\"text-align: left\"> $=\\frac{g(S_u)-g(S_d)}{S_u-S_d}S_1$ - $g(y_d)$ - $\\frac{g(y_u)-g(y_d)}{y_u - y_d}(y - y_d)$ + $B_0(1+r)$ </div>|"
   ]
  },
  {
   "cell_type": "markdown",
   "metadata": {},
   "source": [
    "<ul> d. Show that with the same price $g_0$ as in b., we have a positive PnL with probability 1. </ul>"
   ]
  },
  {
   "cell_type": "markdown",
   "metadata": {},
   "source": [
    "**Answer:**"
   ]
  },
  {
   "cell_type": "markdown",
   "metadata": {},
   "source": [
    "<ul> e. (Optional) Generalize this problem in multi-period setting: give 0 = $t_0 < t_1 < · · · < t_N = T, t_n = nT/N = nh$, with probability 1 </ul>\n",
    "<div style=\"text-align: center\">\n",
    "$S_{(n+1)h} ∈ [dS_{nh}, uS_{nh}] , d < 1 + r = e^{ρh} < u.$\n",
    "</div>\n",
    "(Hint: ∆ should be the ﬁrst derivative of the price with respect to the underlying.)"
   ]
  }
 ],
 "metadata": {
  "kernelspec": {
   "display_name": "Python 3",
   "language": "python",
   "name": "python3"
  },
  "language_info": {
   "codemirror_mode": {
    "name": "ipython",
    "version": 3
   },
   "file_extension": ".py",
   "mimetype": "text/x-python",
   "name": "python",
   "nbconvert_exporter": "python",
   "pygments_lexer": "ipython3",
   "version": "3.6.5"
  }
 },
 "nbformat": 4,
 "nbformat_minor": 2
}
